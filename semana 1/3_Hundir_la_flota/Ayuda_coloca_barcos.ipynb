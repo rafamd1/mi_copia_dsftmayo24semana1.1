{
 "cells": [
  {
   "cell_type": "markdown",
   "metadata": {},
   "source": [
    "## Colocando barcos\n",
    "#### Mini hundir la flota\n",
    "1. Crea un tablero de 10x10 relleno del carácter espacio ( ).\n",
    "2. Posiciona un par de barcos en [(0,1), (1,1)] y [(1,3), (1,4), (1,5), (1,6)]. Los barcos serán Os mayúsculas. Como ves, un barco de dos posiciones de eslora y otro de cuatro.\n",
    "3. Recibe un disparo en uno de los barcos, sustituyendo la O por una X\n",
    "4. Recibe un disparo en agua, sustituyendo uno de los espacios por un guión: -\n",
    "5. Ignorando los disparos recibidos, ahora prueba a posicionar otro barco de 4 posiciones dentro del tablero, pero **de manera ALEATORIA.**\n",
    "\n",
    "**Consejo apartado 5**: El barco tendrá una posición inicial aleatoria dentro del tablero, y una orientación también aleatoria (N,S,E,O).\n",
    "\n",
    "Por ejemplo, si tu posicion inicial fuese (5,0) y la orientación O, no podrias ponerlo porque se sale del tablero. Ahora bien, si fuese orientación este, si podrías, y ocuparía las posiciones [(5,0), (5,1), (5,2), (5,3)]. Por tanto tendrás que iterar con un bucle si es posible encajar el barco en el tablero, y el bucle terminará cuando lo consigas encajar. **Ojo con las posiciones donde ya hay barco!!!**\n",
    "\n",
    "Usa `import random` para elegir las coordenadas aleatorias."
   ]
  },
  {
   "cell_type": "code",
   "execution_count": 21,
   "metadata": {},
   "outputs": [
    {
     "name": "stdout",
     "output_type": "stream",
     "text": [
      "(10, 10)\n",
      "100\n",
      "2\n"
     ]
    }
   ],
   "source": [
    "import numpy as np\n",
    "\n",
    "tablero = np.full(fill_value = 'x', shape = (10,10))\n",
    "print(tablero.shape)\n",
    "print(tablero.size)\n",
    "print(tablero.ndim)"
   ]
  },
  {
   "cell_type": "code",
   "execution_count": 20,
   "metadata": {},
   "outputs": [
    {
     "data": {
      "text/plain": [
       "array([[[0.47292152, 0.65574471, 0.85971242, 0.43374727],\n",
       "        [0.81397362, 0.28739153, 0.13077472, 0.88659129],\n",
       "        [0.09011365, 0.90423874, 0.5306731 , 0.04265388]],\n",
       "\n",
       "       [[0.36073166, 0.99863429, 0.90553949, 0.4906111 ],\n",
       "        [0.20907411, 0.00260409, 0.27158623, 0.26723844],\n",
       "        [0.18623993, 0.57978309, 0.98530555, 0.48528749]]])"
      ]
     },
     "execution_count": 20,
     "metadata": {},
     "output_type": "execute_result"
    }
   ],
   "source": [
    "tablero = np.random.rand(2,3,4)\n",
    "tablero"
   ]
  },
  {
   "cell_type": "code",
   "execution_count": 18,
   "metadata": {},
   "outputs": [
    {
     "data": {
      "text/plain": [
       "array([0.085901  , 0.34462453, 0.81795958, 0.07790404])"
      ]
     },
     "execution_count": 18,
     "metadata": {},
     "output_type": "execute_result"
    }
   ],
   "source": [
    "tablero[0][-1]"
   ]
  },
  {
   "cell_type": "code",
   "execution_count": 5,
   "metadata": {},
   "outputs": [
    {
     "data": {
      "text/plain": [
       "[[[[[1, 2, 3]]]], [1, 2, 3]]"
      ]
     },
     "execution_count": 5,
     "metadata": {},
     "output_type": "execute_result"
    }
   ],
   "source": [
    "[[[[[1,2,3]]]],     [1,2,3] ]"
   ]
  },
  {
   "cell_type": "code",
   "execution_count": 22,
   "metadata": {},
   "outputs": [
    {
     "data": {
      "text/plain": [
       "array([['-', 'X', ' ', ' ', ' ', ' ', ' ', ' ', ' ', ' '],\n",
       "       [' ', 'O', ' ', 'O', 'O', 'O', 'O', ' ', ' ', ' '],\n",
       "       [' ', ' ', ' ', ' ', ' ', ' ', ' ', ' ', ' ', ' '],\n",
       "       [' ', ' ', ' ', ' ', ' ', ' ', ' ', ' ', ' ', ' '],\n",
       "       [' ', ' ', ' ', ' ', ' ', ' ', ' ', ' ', ' ', ' '],\n",
       "       [' ', ' ', ' ', ' ', ' ', ' ', ' ', ' ', ' ', ' '],\n",
       "       [' ', ' ', ' ', ' ', ' ', ' ', ' ', ' ', ' ', ' '],\n",
       "       [' ', ' ', ' ', ' ', ' ', ' ', ' ', ' ', ' ', ' '],\n",
       "       [' ', ' ', ' ', ' ', ' ', ' ', ' ', ' ', ' ', ' '],\n",
       "       [' ', ' ', ' ', ' ', ' ', ' ', ' ', ' ', ' ', ' ']], dtype='<U1')"
      ]
     },
     "execution_count": 22,
     "metadata": {},
     "output_type": "execute_result"
    }
   ],
   "source": [
    "tablero = np.full(fill_value = ' ', shape = (10, 10))\n",
    "tablero[0:2, 1] = 'O' \n",
    "tablero[1, 3:7] = 'O'\n",
    "tablero[0, 1] = 'X'\n",
    "tablero[0, 0] = '-'\n",
    "tablero"
   ]
  },
  {
   "cell_type": "code",
   "execution_count": 1,
   "metadata": {},
   "outputs": [
    {
     "name": "stdout",
     "output_type": "stream",
     "text": [
      "Requirement already satisfied: numpy in c:\\users\\alberto romero\\appdata\\local\\programs\\python\\python312\\lib\\site-packages (1.26.4)\n"
     ]
    }
   ],
   "source": [
    "!pip install numpy"
   ]
  },
  {
   "cell_type": "code",
   "execution_count": 92,
   "metadata": {},
   "outputs": [
    {
     "data": {
      "text/plain": [
       "array([['-', 'X', ' ', ' ', ' ', ' ', ' ', ' ', ' ', ' '],\n",
       "       [' ', 'O', ' ', 'O', 'O', 'O', 'O', ' ', ' ', ' '],\n",
       "       [' ', ' ', ' ', ' ', ' ', ' ', ' ', ' ', ' ', ' '],\n",
       "       [' ', ' ', ' ', ' ', ' ', ' ', ' ', ' ', ' ', ' '],\n",
       "       [' ', ' ', ' ', ' ', ' ', ' ', ' ', ' ', ' ', ' '],\n",
       "       [' ', ' ', ' ', ' ', ' ', ' ', ' ', ' ', ' ', ' '],\n",
       "       [' ', ' ', ' ', ' ', 'O', 'O', 'O', 'O', ' ', ' '],\n",
       "       [' ', ' ', ' ', ' ', ' ', ' ', ' ', ' ', ' ', ' '],\n",
       "       [' ', ' ', ' ', ' ', ' ', ' ', ' ', ' ', ' ', ' '],\n",
       "       [' ', ' ', ' ', ' ', ' ', ' ', ' ', ' ', ' ', ' ']], dtype='<U1')"
      ]
     },
     "execution_count": 92,
     "metadata": {},
     "output_type": "execute_result"
    }
   ],
   "source": [
    "eslora = 4\n",
    "import random\n",
    "import numpy as np\n",
    "\n",
    "while True:\n",
    "    # 'N' - 'S' - 'E' - 'O'\n",
    "    orient = random.choice(['N', 'S', 'E', 'O'])\n",
    "\n",
    "    # Posicion inicial del barco\n",
    "    current_pos = np.random.randint(10, size = 2)\n",
    "    \n",
    "    fila = current_pos[0]\n",
    "    col = current_pos[1]\n",
    "    \n",
    "    # Recogemos las 4 posiciones colindantes a current_pos\n",
    "    coors_posiN = tablero[fila:fila - eslora:-1, col]\n",
    "    coors_posiE = tablero[fila, col: col + eslora]\n",
    "    coors_posiS = tablero[fila:fila + eslora, col]\n",
    "    coors_posiO = tablero[fila, col: col - eslora:-1]\n",
    "    \n",
    "    # Comprobamos si esas posiciones son validas\n",
    "    # Orientacion Norte\n",
    "    if orient == 'N' and 0 <= fila - eslora < 10 and 'O' not in coors_posiN:\n",
    "        tablero[fila:fila - eslora:-1, col] = 'O'\n",
    "        break\n",
    "\n",
    "    # Orientacion Este\n",
    "    elif orient == 'E' and 0 <= col + eslora < 10 and 'O' not in coors_posiE:\n",
    "        tablero[fila, col: col + eslora] = 'O'\n",
    "        break\n",
    "\n",
    "    # Orientacion Sur\n",
    "    elif orient == 'S' and 0 <= fila + eslora < 10 and 'O' not in coors_posiS:\n",
    "        tablero[fila:fila + eslora, col] = 'O'\n",
    "        break\n",
    "\n",
    "    # Orientacion Oeste\n",
    "    elif orient == 'O' and 0 <= col - eslora < 10 and 'O' not in coors_posiO:\n",
    "        tablero[fila, col: col - eslora:-1] = 'O'\n",
    "        break\n",
    "\n",
    "    # No cumple con las dimensiones del tablero, o hay un barco ahi\n",
    "    # Probamos con otra coordenada\n",
    "    else:\n",
    "        continue\n",
    "tablero"
   ]
  },
  {
   "cell_type": "code",
   "execution_count": null,
   "metadata": {},
   "outputs": [],
   "source": []
  }
 ],
 "metadata": {
  "kernelspec": {
   "display_name": "Python 3 (ipykernel)",
   "language": "python",
   "name": "python3"
  },
  "language_info": {
   "codemirror_mode": {
    "name": "ipython",
    "version": 3
   },
   "file_extension": ".py",
   "mimetype": "text/x-python",
   "name": "python",
   "nbconvert_exporter": "python",
   "pygments_lexer": "ipython3",
   "version": "3.12.3"
  }
 },
 "nbformat": 4,
 "nbformat_minor": 4
}
