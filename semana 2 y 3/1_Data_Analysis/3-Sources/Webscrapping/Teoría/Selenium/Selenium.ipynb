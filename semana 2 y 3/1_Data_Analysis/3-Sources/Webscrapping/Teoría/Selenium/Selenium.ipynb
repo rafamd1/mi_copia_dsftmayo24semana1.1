{
 "cells": [
  {
   "cell_type": "markdown",
   "metadata": {},
   "source": [
    "# Web Scraping: Selenium"
   ]
  },
  {
   "cell_type": "markdown",
   "metadata": {},
   "source": [
    "A menudo, los datos están disponibles públicamente para nosotros, pero no en una forma que sea fácilmente utilizable. Ahí es donde entra en juego el web scraping, podemos usar web scraping para obtener nuestros datos deseados en un formato conveniente que luego se puede usar. A continuación, mostraré cómo se puede extraer información de interés de un sitio web usando el paquete Selenium en Python. Selenium nos permite manejar una ventana del navegador e interactuar con el sitio web mediante programación. \n",
    "\n",
    "Selenium también tiene varios métodos que facilitan la extracción de datos.\n",
    "En este Jupyter Notebook vamos a usar Python 3 en Windows.\n",
    "\n",
    "En primer lugar, tendremos que descargar un controlador.\n",
    "\n",
    "Usaremos ChromeDriver para Google Chrome. Para obtener una lista completa de controladores y plataformas compatibles, consulte [Selenium](https://www.selenium.dev/downloads/). Si desea utilizar Google Chrome, diríjase a [chrome](https://chromedriver.chromium.org/) y descargue el controlador que corresponde a su versión actual de Google Chrome.\n",
    "\n",
    "Como saber cual es la version de chrome que utilizo simple utilizamos pegamos el siguiente enlace en la barra de chrome chrome://settings/help\n",
    "\n",
    "Antes de comenzar se preguntaran si ya se BeautifulSoup cual es la diferencia con Selenium.\n",
    "\n",
    "A diferencia BeautifulSoup, Selenium no trabaja con el texto fuente en HTML de la web en cuestión, sino que carga la página en un navegador sin interfaz de usuario. El navegador interpreta entonces el código fuente de la página y crea, a partir de él, un Document Object Model (modelo de objetos de documento o DOM). Esta interfaz estandarizada permite poner a prueba las interacciones de los usuarios. De esta forma se consigue, por ejemplo, simular clics y rellenar formularios automáticamente. Los cambios en la web que resultan de dichas acciones se reflejan en el DOM. La estructura del proceso de web scraping con Selenium es la siguiente:\n",
    "\n",
    "URL → Solicitud HTTP → HTML → Selenium → DOM\n",
    "\n"
   ]
  },
  {
   "cell_type": "markdown",
   "metadata": {},
   "source": [
    "## Comencemos importando las bibliotecas que usaremos:"
   ]
  },
  {
   "cell_type": "code",
   "execution_count": 2,
   "metadata": {},
   "outputs": [],
   "source": [
    "# pip install selenium"
   ]
  },
  {
   "cell_type": "code",
   "execution_count": 1,
   "metadata": {
    "ExecuteTime": {
     "end_time": "2021-02-26T12:16:59.303652Z",
     "start_time": "2021-02-26T12:16:59.300657Z"
    }
   },
   "outputs": [],
   "source": [
    "from selenium import webdriver\n",
    "from selenium.webdriver.chrome.service import Service\n",
    "from selenium.webdriver.common.by import By\n",
    "import time"
   ]
  },
  {
   "cell_type": "markdown",
   "metadata": {},
   "source": [
    "El objeto driver es con el que trabajaremos a partir de ahora"
   ]
  },
  {
   "cell_type": "code",
   "execution_count": 17,
   "metadata": {},
   "outputs": [],
   "source": [
    "service = Service(executable_path='./chromedriver.exe')\n",
    "options = webdriver.ChromeOptions()"
   ]
  },
  {
   "cell_type": "code",
   "execution_count": 18,
   "metadata": {},
   "outputs": [],
   "source": [
    "driver = webdriver.Chrome(service=service, options=options)\n",
    "# ...\n",
    "# driver.quit()"
   ]
  },
  {
   "cell_type": "code",
   "execution_count": 11,
   "metadata": {},
   "outputs": [],
   "source": [
    "# Creamos el driver con el que nos vamos a manejar en la sesión de scrapeo:\n",
    "\n",
    "driver.get(\"http://www.google.es\")\n",
    "\n",
    "# time.sleep(5)\n",
    "\n",
    "# driver.quit()"
   ]
  },
  {
   "cell_type": "code",
   "execution_count": 7,
   "metadata": {},
   "outputs": [],
   "source": [
    "# driver.get(\"https://www.thebridge.tech/\")"
   ]
  },
  {
   "cell_type": "code",
   "execution_count": 8,
   "metadata": {},
   "outputs": [],
   "source": [
    "# driver.quit()"
   ]
  },
  {
   "cell_type": "markdown",
   "metadata": {},
   "source": [
    "Ahora si queremos hacer click en el boton de \"Rechazar\". Selenium proporciona varios métodos para localizar elementos en la página web. Usaremos el método find_element para crear un objeto de botón, con el que luego podremos interactuar:"
   ]
  },
  {
   "cell_type": "code",
   "execution_count": null,
   "metadata": {},
   "outputs": [],
   "source": [
    "/html/body/div[2]/div[2]/div[3]/span/div/div/div/div[3]/div[1]/button[1]/div"
   ]
  },
  {
   "cell_type": "code",
   "execution_count": 12,
   "metadata": {},
   "outputs": [],
   "source": [
    "loadMore = driver.find_element(By.XPATH, '/html/body/div[2]/div[2]/div[3]/span/div/div/div/div[3]/div[1]/button[1]/div')"
   ]
  },
  {
   "cell_type": "code",
   "execution_count": 13,
   "metadata": {},
   "outputs": [],
   "source": [
    "loadMore.click()"
   ]
  },
  {
   "cell_type": "code",
   "execution_count": 15,
   "metadata": {},
   "outputs": [],
   "source": [
    "search_box = driver.find_element(By.XPATH, \"/html/body/div[1]/div[3]/form/div[1]/div[1]/div[1]/div/div[2]/textarea\")\n",
    "search_box.send_keys(\"thebridgeschool\")\n",
    "search_box.submit()"
   ]
  },
  {
   "cell_type": "code",
   "execution_count": 16,
   "metadata": {},
   "outputs": [],
   "source": [
    "driver.quit()"
   ]
  },
  {
   "cell_type": "code",
   "execution_count": 19,
   "metadata": {},
   "outputs": [],
   "source": [
    "lista_webs = [\"https://www.thebridge.tech/\",\n",
    "              \"https://www.kaggle.com/\",\n",
    "              \"https://www.youtube.com/\",\n",
    "              \"https://www.elpais.com/\",\n",
    "              \"https://www.rtve.es/\"\n",
    "              ]\n",
    "\n",
    "for web in lista_webs:\n",
    "    driver.get(web)\n",
    "    time.sleep(3)"
   ]
  },
  {
   "cell_type": "code",
   "execution_count": 20,
   "metadata": {},
   "outputs": [],
   "source": [
    "driver.quit()"
   ]
  },
  {
   "cell_type": "markdown",
   "metadata": {},
   "source": [
    "# Filmaffinity"
   ]
  },
  {
   "cell_type": "code",
   "execution_count": 41,
   "metadata": {},
   "outputs": [],
   "source": [
    "service = Service(executable_path='./chromedriver.exe')\n",
    "options = webdriver.ChromeOptions()\n",
    "driver = webdriver.Chrome(service=service, options=options)"
   ]
  },
  {
   "cell_type": "code",
   "execution_count": 42,
   "metadata": {},
   "outputs": [],
   "source": [
    "# indicamos la URL de la página web a la que queremos acceder:\n",
    "url = 'https://www.filmaffinity.com/es/main.html'\n",
    "# el objeto driver nos va a permitir alterar el estado del la página\n",
    "driver.get(url)"
   ]
  },
  {
   "cell_type": "markdown",
   "metadata": {},
   "source": [
    "La página de Filmaffinity se ha abierto"
   ]
  },
  {
   "cell_type": "markdown",
   "metadata": {},
   "source": [
    "Pero...."
   ]
  },
  {
   "cell_type": "markdown",
   "metadata": {},
   "source": [
    "Nos hemos encontrado con un pop-up que nos pide aceptar cookies"
   ]
  },
  {
   "cell_type": "markdown",
   "metadata": {},
   "source": [
    "1. Buscamos el botón\n",
    "2. Hacemos click en el botón"
   ]
  },
  {
   "cell_type": "markdown",
   "metadata": {},
   "source": [
    "Vamos a quitar el boton para seguir"
   ]
  },
  {
   "cell_type": "code",
   "execution_count": 43,
   "metadata": {
    "ExecuteTime": {
     "end_time": "2021-02-26T10:22:48.546287Z",
     "start_time": "2021-02-26T10:22:48.489040Z"
    }
   },
   "outputs": [],
   "source": [
    "elements_by_tag = driver.find_elements(By.TAG_NAME,'button')\n",
    "elements_by_class_name = driver.find_elements(By.CLASS_NAME, 'css-2tkghh')\n",
    "element_by_xpath = driver.find_element(By.XPATH, '//*[@id=\"qc-cmp2-ui\"]/div[2]/div/button[2]')"
   ]
  },
  {
   "cell_type": "markdown",
   "metadata": {},
   "source": [
    "Una vez tenemos los elementos podemos hacer varias cosas con ellos"
   ]
  },
  {
   "cell_type": "markdown",
   "metadata": {},
   "source": [
    "Podemos extraer todos los atributos que tenga"
   ]
  },
  {
   "cell_type": "code",
   "execution_count": 19,
   "metadata": {
    "ExecuteTime": {
     "end_time": "2021-02-26T10:22:51.542538Z",
     "start_time": "2021-02-26T10:22:51.508077Z"
    }
   },
   "outputs": [
    {
     "data": {
      "text/plain": [
       "['__abstractmethods__',\n",
       " '__class__',\n",
       " '__delattr__',\n",
       " '__dict__',\n",
       " '__dir__',\n",
       " '__doc__',\n",
       " '__eq__',\n",
       " '__format__',\n",
       " '__ge__',\n",
       " '__getattribute__',\n",
       " '__getstate__',\n",
       " '__gt__',\n",
       " '__hash__',\n",
       " '__init__',\n",
       " '__init_subclass__',\n",
       " '__le__',\n",
       " '__lt__',\n",
       " '__module__',\n",
       " '__ne__',\n",
       " '__new__',\n",
       " '__reduce__',\n",
       " '__reduce_ex__',\n",
       " '__repr__',\n",
       " '__setattr__',\n",
       " '__sizeof__',\n",
       " '__str__',\n",
       " '__subclasshook__',\n",
       " '__weakref__',\n",
       " '_abc_impl',\n",
       " '_execute',\n",
       " '_id',\n",
       " '_parent',\n",
       " '_upload',\n",
       " 'accessible_name',\n",
       " 'aria_role',\n",
       " 'clear',\n",
       " 'click',\n",
       " 'find_element',\n",
       " 'find_elements',\n",
       " 'get_attribute',\n",
       " 'get_dom_attribute',\n",
       " 'get_property',\n",
       " 'id',\n",
       " 'is_displayed',\n",
       " 'is_enabled',\n",
       " 'is_selected',\n",
       " 'location',\n",
       " 'location_once_scrolled_into_view',\n",
       " 'parent',\n",
       " 'rect',\n",
       " 'screenshot',\n",
       " 'screenshot_as_base64',\n",
       " 'screenshot_as_png',\n",
       " 'send_keys',\n",
       " 'shadow_root',\n",
       " 'size',\n",
       " 'submit',\n",
       " 'tag_name',\n",
       " 'text',\n",
       " 'value_of_css_property']"
      ]
     },
     "execution_count": 19,
     "metadata": {},
     "output_type": "execute_result"
    }
   ],
   "source": [
    "dir(element_by_xpath)\n",
    "# obtenemos todos sus métodos y atributos:"
   ]
  },
  {
   "cell_type": "markdown",
   "metadata": {},
   "source": [
    "Podemos evaluar que tipo de elemento es (tag)"
   ]
  },
  {
   "cell_type": "code",
   "execution_count": 24,
   "metadata": {
    "ExecuteTime": {
     "end_time": "2021-02-26T10:22:53.325430Z",
     "start_time": "2021-02-26T10:22:53.306520Z"
    }
   },
   "outputs": [
    {
     "data": {
      "text/plain": [
       "'button'"
      ]
     },
     "execution_count": 24,
     "metadata": {},
     "output_type": "execute_result"
    }
   ],
   "source": [
    "element_by_xpath.tag_name"
   ]
  },
  {
   "cell_type": "markdown",
   "metadata": {},
   "source": [
    "Podemos sacar el valor que tiene (el texto)"
   ]
  },
  {
   "cell_type": "code",
   "execution_count": 25,
   "metadata": {
    "ExecuteTime": {
     "end_time": "2021-02-26T10:22:54.583190Z",
     "start_time": "2021-02-26T10:22:54.553596Z"
    }
   },
   "outputs": [
    {
     "data": {
      "text/plain": [
       "'NO ACEPTO'"
      ]
     },
     "execution_count": 25,
     "metadata": {},
     "output_type": "execute_result"
    }
   ],
   "source": [
    "element_by_xpath.text"
   ]
  },
  {
   "cell_type": "code",
   "execution_count": 26,
   "metadata": {},
   "outputs": [
    {
     "name": "stdout",
     "output_type": "stream",
     "text": [
      "socios\n",
      "MÁS OPCIONES\n",
      "NO ACEPTO\n",
      "ACEPTO\n"
     ]
    }
   ],
   "source": [
    "for i in range(0,len(elements_by_tag)):\n",
    "    print(elements_by_tag[i].text)"
   ]
  },
  {
   "cell_type": "markdown",
   "metadata": {},
   "source": [
    "Incluso podemos guardar una imagen del elemento"
   ]
  },
  {
   "cell_type": "code",
   "execution_count": 40,
   "metadata": {},
   "outputs": [
    {
     "data": {
      "text/plain": [
       "selenium.webdriver.remote.webelement.WebElement"
      ]
     },
     "execution_count": 40,
     "metadata": {},
     "output_type": "execute_result"
    }
   ],
   "source": [
    "type(element_by_xpath)\n",
    "# Vemos que es tipo 'WebElement' y en la documentación podremos encontrar sus métodos"
   ]
  },
  {
   "cell_type": "code",
   "execution_count": 27,
   "metadata": {
    "ExecuteTime": {
     "end_time": "2021-02-26T10:24:41.830050Z",
     "start_time": "2021-02-26T10:24:41.510086Z"
    }
   },
   "outputs": [
    {
     "data": {
      "text/plain": [
       "True"
      ]
     },
     "execution_count": 27,
     "metadata": {},
     "output_type": "execute_result"
    }
   ],
   "source": [
    "# guardamos como 'mi_imagen.png' la imagen asociada al xpath\n",
    "element_by_xpath.screenshot('mi_imagen.png')"
   ]
  },
  {
   "cell_type": "markdown",
   "metadata": {
    "ExecuteTime": {
     "end_time": "2021-02-25T09:56:21.322475Z",
     "start_time": "2021-02-25T09:56:21.318715Z"
    }
   },
   "source": [
    "Evaluamos que elementos hemos encontrado por el tag:"
   ]
  },
  {
   "cell_type": "code",
   "execution_count": 28,
   "metadata": {},
   "outputs": [
    {
     "name": "stdout",
     "output_type": "stream",
     "text": [
      "Elemento: 0\n",
      "Texto del elemento 0 es socios\n",
      "El tag del elemento 0 es button\n",
      "Elemento: 1\n",
      "Texto del elemento 1 es MÁS OPCIONES\n",
      "El tag del elemento 1 es button\n",
      "Elemento: 2\n",
      "Texto del elemento 2 es NO ACEPTO\n",
      "El tag del elemento 2 es button\n",
      "Elemento: 3\n",
      "Texto del elemento 3 es ACEPTO\n",
      "El tag del elemento 3 es button\n"
     ]
    }
   ],
   "source": [
    "for index, element in enumerate(elements_by_tag):\n",
    "    print('Elemento:', index)\n",
    "    print('Texto del elemento',index, 'es', element.text)\n",
    "    print('El tag del elemento',index, 'es', element.tag_name)\n",
    "    element.screenshot('mi_imagen'+str(index)+'.png')"
   ]
  },
  {
   "cell_type": "markdown",
   "metadata": {},
   "source": [
    "Basta de tonterias seguimos"
   ]
  },
  {
   "cell_type": "markdown",
   "metadata": {},
   "source": [
    "Instanciamos el elemento del tag [2] en la variable boton aceptar"
   ]
  },
  {
   "cell_type": "code",
   "execution_count": 44,
   "metadata": {
    "ExecuteTime": {
     "end_time": "2021-02-26T10:24:47.302978Z",
     "start_time": "2021-02-26T10:24:47.291261Z"
    }
   },
   "outputs": [],
   "source": [
    "boton_aceptar = elements_by_tag[2]"
   ]
  },
  {
   "cell_type": "markdown",
   "metadata": {},
   "source": [
    "Si el elemento es interactivo podremos hacer más cosas además de las anteriores. Por ejemplo: hacer click"
   ]
  },
  {
   "cell_type": "code",
   "execution_count": 45,
   "metadata": {
    "ExecuteTime": {
     "end_time": "2021-02-26T10:24:48.611716Z",
     "start_time": "2021-02-26T10:24:48.390430Z"
    }
   },
   "outputs": [],
   "source": [
    "boton_aceptar.click()"
   ]
  },
  {
   "cell_type": "markdown",
   "metadata": {},
   "source": [
    "Buscamos una película por título"
   ]
  },
  {
   "cell_type": "code",
   "execution_count": 38,
   "metadata": {},
   "outputs": [],
   "source": [
    "from selenium.webdriver.common.keys import Keys"
   ]
  },
  {
   "cell_type": "code",
   "execution_count": 31,
   "metadata": {
    "ExecuteTime": {
     "end_time": "2021-02-26T10:28:14.592155Z",
     "start_time": "2021-02-26T10:28:13.509998Z"
    }
   },
   "outputs": [],
   "source": [
    "buscador = driver.find_element(By.XPATH, '/html/body/header/div[1]/div/div[2]/div/form/div/input')"
   ]
  },
  {
   "cell_type": "code",
   "execution_count": 32,
   "metadata": {},
   "outputs": [],
   "source": [
    "buscador.send_keys('Oppenheimmer')\n",
    "# buscador.clear()"
   ]
  },
  {
   "cell_type": "code",
   "execution_count": 33,
   "metadata": {},
   "outputs": [],
   "source": [
    "# una vez escrita la búsqueda deberíamos poder activarla:\n",
    "# buscador.send_keys(Keys.ENTER)\n",
    "buscador.submit()"
   ]
  },
  {
   "cell_type": "code",
   "execution_count": 34,
   "metadata": {},
   "outputs": [],
   "source": [
    "# volvemos a la página anterior\n",
    "driver.back()"
   ]
  },
  {
   "cell_type": "code",
   "execution_count": 35,
   "metadata": {},
   "outputs": [],
   "source": [
    "buscador.clear()"
   ]
  },
  {
   "cell_type": "code",
   "execution_count": 36,
   "metadata": {},
   "outputs": [],
   "source": [
    "buscador = driver.find_element(By.XPATH, '/html/body/header/div[1]/div/div[2]/div/form/div/input')\n",
    "buscador.send_keys('Oppenheimer')"
   ]
  },
  {
   "cell_type": "code",
   "execution_count": 39,
   "metadata": {},
   "outputs": [],
   "source": [
    "buscador.send_keys(Keys.ENTER)"
   ]
  },
  {
   "cell_type": "markdown",
   "metadata": {
    "ExecuteTime": {
     "end_time": "2021-02-25T10:09:19.308961Z",
     "start_time": "2021-02-25T10:09:19.299983Z"
    }
   },
   "source": [
    "### Vamos a buscar todas las películas que se estrenan el próximo viernes"
   ]
  },
  {
   "cell_type": "markdown",
   "metadata": {},
   "source": [
    "1. Cogemos los containers que hay en la zona lateral"
   ]
  },
  {
   "cell_type": "code",
   "execution_count": 46,
   "metadata": {
    "ExecuteTime": {
     "end_time": "2021-02-25T10:40:53.961145Z",
     "start_time": "2021-02-25T10:40:53.793388Z"
    }
   },
   "outputs": [],
   "source": [
    "menu_lateral = driver.find_element(By.ID, 'lsmenu') "
   ]
  },
  {
   "cell_type": "code",
   "execution_count": 47,
   "metadata": {},
   "outputs": [],
   "source": [
    "mis_secciones = menu_lateral.find_elements(By.TAG_NAME, 'a')"
   ]
  },
  {
   "cell_type": "markdown",
   "metadata": {},
   "source": [
    "2. Vemos con cuál nos tenemos que quedar"
   ]
  },
  {
   "cell_type": "code",
   "execution_count": 48,
   "metadata": {},
   "outputs": [
    {
     "data": {
      "text/plain": [
       "[<selenium.webdriver.remote.webelement.WebElement (session=\"1cd30cd32ecdd24308cfedfa3bf4a3a4\", element=\"f.E67EE9D51C01558264D0016EA57FA9B3.d.590A681811BF5FB8CE54F9285BC70595.e.43\")>,\n",
       " <selenium.webdriver.remote.webelement.WebElement (session=\"1cd30cd32ecdd24308cfedfa3bf4a3a4\", element=\"f.E67EE9D51C01558264D0016EA57FA9B3.d.590A681811BF5FB8CE54F9285BC70595.e.113\")>,\n",
       " <selenium.webdriver.remote.webelement.WebElement (session=\"1cd30cd32ecdd24308cfedfa3bf4a3a4\", element=\"f.E67EE9D51C01558264D0016EA57FA9B3.d.590A681811BF5FB8CE54F9285BC70595.e.114\")>,\n",
       " <selenium.webdriver.remote.webelement.WebElement (session=\"1cd30cd32ecdd24308cfedfa3bf4a3a4\", element=\"f.E67EE9D51C01558264D0016EA57FA9B3.d.590A681811BF5FB8CE54F9285BC70595.e.115\")>,\n",
       " <selenium.webdriver.remote.webelement.WebElement (session=\"1cd30cd32ecdd24308cfedfa3bf4a3a4\", element=\"f.E67EE9D51C01558264D0016EA57FA9B3.d.590A681811BF5FB8CE54F9285BC70595.e.116\")>,\n",
       " <selenium.webdriver.remote.webelement.WebElement (session=\"1cd30cd32ecdd24308cfedfa3bf4a3a4\", element=\"f.E67EE9D51C01558264D0016EA57FA9B3.d.590A681811BF5FB8CE54F9285BC70595.e.117\")>,\n",
       " <selenium.webdriver.remote.webelement.WebElement (session=\"1cd30cd32ecdd24308cfedfa3bf4a3a4\", element=\"f.E67EE9D51C01558264D0016EA57FA9B3.d.590A681811BF5FB8CE54F9285BC70595.e.118\")>,\n",
       " <selenium.webdriver.remote.webelement.WebElement (session=\"1cd30cd32ecdd24308cfedfa3bf4a3a4\", element=\"f.E67EE9D51C01558264D0016EA57FA9B3.d.590A681811BF5FB8CE54F9285BC70595.e.119\")>,\n",
       " <selenium.webdriver.remote.webelement.WebElement (session=\"1cd30cd32ecdd24308cfedfa3bf4a3a4\", element=\"f.E67EE9D51C01558264D0016EA57FA9B3.d.590A681811BF5FB8CE54F9285BC70595.e.120\")>,\n",
       " <selenium.webdriver.remote.webelement.WebElement (session=\"1cd30cd32ecdd24308cfedfa3bf4a3a4\", element=\"f.E67EE9D51C01558264D0016EA57FA9B3.d.590A681811BF5FB8CE54F9285BC70595.e.121\")>,\n",
       " <selenium.webdriver.remote.webelement.WebElement (session=\"1cd30cd32ecdd24308cfedfa3bf4a3a4\", element=\"f.E67EE9D51C01558264D0016EA57FA9B3.d.590A681811BF5FB8CE54F9285BC70595.e.122\")>,\n",
       " <selenium.webdriver.remote.webelement.WebElement (session=\"1cd30cd32ecdd24308cfedfa3bf4a3a4\", element=\"f.E67EE9D51C01558264D0016EA57FA9B3.d.590A681811BF5FB8CE54F9285BC70595.e.123\")>,\n",
       " <selenium.webdriver.remote.webelement.WebElement (session=\"1cd30cd32ecdd24308cfedfa3bf4a3a4\", element=\"f.E67EE9D51C01558264D0016EA57FA9B3.d.590A681811BF5FB8CE54F9285BC70595.e.124\")>,\n",
       " <selenium.webdriver.remote.webelement.WebElement (session=\"1cd30cd32ecdd24308cfedfa3bf4a3a4\", element=\"f.E67EE9D51C01558264D0016EA57FA9B3.d.590A681811BF5FB8CE54F9285BC70595.e.125\")>,\n",
       " <selenium.webdriver.remote.webelement.WebElement (session=\"1cd30cd32ecdd24308cfedfa3bf4a3a4\", element=\"f.E67EE9D51C01558264D0016EA57FA9B3.d.590A681811BF5FB8CE54F9285BC70595.e.126\")>,\n",
       " <selenium.webdriver.remote.webelement.WebElement (session=\"1cd30cd32ecdd24308cfedfa3bf4a3a4\", element=\"f.E67EE9D51C01558264D0016EA57FA9B3.d.590A681811BF5FB8CE54F9285BC70595.e.127\")>,\n",
       " <selenium.webdriver.remote.webelement.WebElement (session=\"1cd30cd32ecdd24308cfedfa3bf4a3a4\", element=\"f.E67EE9D51C01558264D0016EA57FA9B3.d.590A681811BF5FB8CE54F9285BC70595.e.128\")>,\n",
       " <selenium.webdriver.remote.webelement.WebElement (session=\"1cd30cd32ecdd24308cfedfa3bf4a3a4\", element=\"f.E67EE9D51C01558264D0016EA57FA9B3.d.590A681811BF5FB8CE54F9285BC70595.e.129\")>,\n",
       " <selenium.webdriver.remote.webelement.WebElement (session=\"1cd30cd32ecdd24308cfedfa3bf4a3a4\", element=\"f.E67EE9D51C01558264D0016EA57FA9B3.d.590A681811BF5FB8CE54F9285BC70595.e.130\")>,\n",
       " <selenium.webdriver.remote.webelement.WebElement (session=\"1cd30cd32ecdd24308cfedfa3bf4a3a4\", element=\"f.E67EE9D51C01558264D0016EA57FA9B3.d.590A681811BF5FB8CE54F9285BC70595.e.131\")>,\n",
       " <selenium.webdriver.remote.webelement.WebElement (session=\"1cd30cd32ecdd24308cfedfa3bf4a3a4\", element=\"f.E67EE9D51C01558264D0016EA57FA9B3.d.590A681811BF5FB8CE54F9285BC70595.e.132\")>,\n",
       " <selenium.webdriver.remote.webelement.WebElement (session=\"1cd30cd32ecdd24308cfedfa3bf4a3a4\", element=\"f.E67EE9D51C01558264D0016EA57FA9B3.d.590A681811BF5FB8CE54F9285BC70595.e.133\")>,\n",
       " <selenium.webdriver.remote.webelement.WebElement (session=\"1cd30cd32ecdd24308cfedfa3bf4a3a4\", element=\"f.E67EE9D51C01558264D0016EA57FA9B3.d.590A681811BF5FB8CE54F9285BC70595.e.134\")>,\n",
       " <selenium.webdriver.remote.webelement.WebElement (session=\"1cd30cd32ecdd24308cfedfa3bf4a3a4\", element=\"f.E67EE9D51C01558264D0016EA57FA9B3.d.590A681811BF5FB8CE54F9285BC70595.e.135\")>,\n",
       " <selenium.webdriver.remote.webelement.WebElement (session=\"1cd30cd32ecdd24308cfedfa3bf4a3a4\", element=\"f.E67EE9D51C01558264D0016EA57FA9B3.d.590A681811BF5FB8CE54F9285BC70595.e.136\")>,\n",
       " <selenium.webdriver.remote.webelement.WebElement (session=\"1cd30cd32ecdd24308cfedfa3bf4a3a4\", element=\"f.E67EE9D51C01558264D0016EA57FA9B3.d.590A681811BF5FB8CE54F9285BC70595.e.137\")>,\n",
       " <selenium.webdriver.remote.webelement.WebElement (session=\"1cd30cd32ecdd24308cfedfa3bf4a3a4\", element=\"f.E67EE9D51C01558264D0016EA57FA9B3.d.590A681811BF5FB8CE54F9285BC70595.e.138\")>,\n",
       " <selenium.webdriver.remote.webelement.WebElement (session=\"1cd30cd32ecdd24308cfedfa3bf4a3a4\", element=\"f.E67EE9D51C01558264D0016EA57FA9B3.d.590A681811BF5FB8CE54F9285BC70595.e.139\")>,\n",
       " <selenium.webdriver.remote.webelement.WebElement (session=\"1cd30cd32ecdd24308cfedfa3bf4a3a4\", element=\"f.E67EE9D51C01558264D0016EA57FA9B3.d.590A681811BF5FB8CE54F9285BC70595.e.140\")>,\n",
       " <selenium.webdriver.remote.webelement.WebElement (session=\"1cd30cd32ecdd24308cfedfa3bf4a3a4\", element=\"f.E67EE9D51C01558264D0016EA57FA9B3.d.590A681811BF5FB8CE54F9285BC70595.e.141\")>,\n",
       " <selenium.webdriver.remote.webelement.WebElement (session=\"1cd30cd32ecdd24308cfedfa3bf4a3a4\", element=\"f.E67EE9D51C01558264D0016EA57FA9B3.d.590A681811BF5FB8CE54F9285BC70595.e.142\")>,\n",
       " <selenium.webdriver.remote.webelement.WebElement (session=\"1cd30cd32ecdd24308cfedfa3bf4a3a4\", element=\"f.E67EE9D51C01558264D0016EA57FA9B3.d.590A681811BF5FB8CE54F9285BC70595.e.143\")>,\n",
       " <selenium.webdriver.remote.webelement.WebElement (session=\"1cd30cd32ecdd24308cfedfa3bf4a3a4\", element=\"f.E67EE9D51C01558264D0016EA57FA9B3.d.590A681811BF5FB8CE54F9285BC70595.e.144\")>,\n",
       " <selenium.webdriver.remote.webelement.WebElement (session=\"1cd30cd32ecdd24308cfedfa3bf4a3a4\", element=\"f.E67EE9D51C01558264D0016EA57FA9B3.d.590A681811BF5FB8CE54F9285BC70595.e.145\")>,\n",
       " <selenium.webdriver.remote.webelement.WebElement (session=\"1cd30cd32ecdd24308cfedfa3bf4a3a4\", element=\"f.E67EE9D51C01558264D0016EA57FA9B3.d.590A681811BF5FB8CE54F9285BC70595.e.146\")>,\n",
       " <selenium.webdriver.remote.webelement.WebElement (session=\"1cd30cd32ecdd24308cfedfa3bf4a3a4\", element=\"f.E67EE9D51C01558264D0016EA57FA9B3.d.590A681811BF5FB8CE54F9285BC70595.e.147\")>,\n",
       " <selenium.webdriver.remote.webelement.WebElement (session=\"1cd30cd32ecdd24308cfedfa3bf4a3a4\", element=\"f.E67EE9D51C01558264D0016EA57FA9B3.d.590A681811BF5FB8CE54F9285BC70595.e.148\")>,\n",
       " <selenium.webdriver.remote.webelement.WebElement (session=\"1cd30cd32ecdd24308cfedfa3bf4a3a4\", element=\"f.E67EE9D51C01558264D0016EA57FA9B3.d.590A681811BF5FB8CE54F9285BC70595.e.149\")>,\n",
       " <selenium.webdriver.remote.webelement.WebElement (session=\"1cd30cd32ecdd24308cfedfa3bf4a3a4\", element=\"f.E67EE9D51C01558264D0016EA57FA9B3.d.590A681811BF5FB8CE54F9285BC70595.e.150\")>,\n",
       " <selenium.webdriver.remote.webelement.WebElement (session=\"1cd30cd32ecdd24308cfedfa3bf4a3a4\", element=\"f.E67EE9D51C01558264D0016EA57FA9B3.d.590A681811BF5FB8CE54F9285BC70595.e.151\")>,\n",
       " <selenium.webdriver.remote.webelement.WebElement (session=\"1cd30cd32ecdd24308cfedfa3bf4a3a4\", element=\"f.E67EE9D51C01558264D0016EA57FA9B3.d.590A681811BF5FB8CE54F9285BC70595.e.152\")>,\n",
       " <selenium.webdriver.remote.webelement.WebElement (session=\"1cd30cd32ecdd24308cfedfa3bf4a3a4\", element=\"f.E67EE9D51C01558264D0016EA57FA9B3.d.590A681811BF5FB8CE54F9285BC70595.e.153\")>,\n",
       " <selenium.webdriver.remote.webelement.WebElement (session=\"1cd30cd32ecdd24308cfedfa3bf4a3a4\", element=\"f.E67EE9D51C01558264D0016EA57FA9B3.d.590A681811BF5FB8CE54F9285BC70595.e.154\")>,\n",
       " <selenium.webdriver.remote.webelement.WebElement (session=\"1cd30cd32ecdd24308cfedfa3bf4a3a4\", element=\"f.E67EE9D51C01558264D0016EA57FA9B3.d.590A681811BF5FB8CE54F9285BC70595.e.155\")>,\n",
       " <selenium.webdriver.remote.webelement.WebElement (session=\"1cd30cd32ecdd24308cfedfa3bf4a3a4\", element=\"f.E67EE9D51C01558264D0016EA57FA9B3.d.590A681811BF5FB8CE54F9285BC70595.e.156\")>]"
      ]
     },
     "execution_count": 48,
     "metadata": {},
     "output_type": "execute_result"
    }
   ],
   "source": [
    "mis_secciones"
   ]
  },
  {
   "cell_type": "code",
   "execution_count": 50,
   "metadata": {
    "ExecuteTime": {
     "end_time": "2021-02-25T10:40:55.130681Z",
     "start_time": "2021-02-25T10:40:54.930234Z"
    }
   },
   "outputs": [],
   "source": [
    "# for a in mis_secciones[:5]:\n",
    "#     # print(a)\n",
    "#     a.click()\n",
    "#     time.sleep(3)\n",
    "#     driver.back()"
   ]
  },
  {
   "cell_type": "markdown",
   "metadata": {},
   "source": [
    "Accedemos al container central, en el que aparecen los estrenos por semana que queremos ver, exactamente igual que hemos hecho antes"
   ]
  },
  {
   "cell_type": "code",
   "execution_count": 51,
   "metadata": {
    "ExecuteTime": {
     "end_time": "2021-02-25T10:43:53.772471Z",
     "start_time": "2021-02-25T10:43:53.757510Z"
    }
   },
   "outputs": [],
   "source": [
    "cajon_central = driver.find_elements(By.CLASS_NAME, 'padding-movie-catrd')"
   ]
  },
  {
   "cell_type": "code",
   "execution_count": 52,
   "metadata": {
    "ExecuteTime": {
     "end_time": "2021-02-25T11:04:59.734561Z",
     "start_time": "2021-02-25T11:04:59.617626Z"
    }
   },
   "outputs": [
    {
     "name": "stdout",
     "output_type": "stream",
     "text": [
      "Furiosa: De la saga Mad Max\n",
      "(24 de mayo)\n",
      "https://www.filmaffinity.com/es/film501691.html\n",
      "Segundo premio\n",
      "(24 de mayo)\n",
      "https://www.filmaffinity.com/es/film385824.html\n",
      "Jugando con fuego\n",
      "(24 de mayo)\n",
      "https://www.filmaffinity.com/es/film612853.html\n",
      "Se abre la veda\n",
      "(24 de mayo)\n",
      "https://www.filmaffinity.com/es/film164108.html\n",
      "Red\n",
      "(24 de mayo)\n",
      "https://www.filmaffinity.com/es/film896906.html\n",
      "Historias\n",
      "(24 de mayo)\n",
      "https://www.filmaffinity.com/es/film218437.html\n",
      "El último late night\n",
      "(24 de mayo)\n",
      "https://www.filmaffinity.com/es/film897658.html\n",
      "El último verano\n",
      "(24 de mayo)\n",
      "https://www.filmaffinity.com/es/film132707.html\n",
      "Sabor a libertad\n",
      "(24 de mayo)\n",
      "https://www.filmaffinity.com/es/film790882.html\n",
      "Back to Black\n",
      "(31 de mayo)\n",
      "https://www.filmaffinity.com/es/film159385.html\n",
      "El exorcismo de Georgetown\n",
      "(31 de mayo)\n",
      "https://www.filmaffinity.com/es/film238020.html\n",
      "Arthur\n",
      "(31 de mayo)\n",
      "https://www.filmaffinity.com/es/film439872.html\n",
      "La mujer dormida\n",
      "(31 de mayo)\n",
      "https://www.filmaffinity.com/es/film117802.html\n",
      "Un año difícil\n",
      "(31 de mayo)\n",
      "https://www.filmaffinity.com/es/film924798.html\n",
      "Haikyu!! La batalla del basurero\n",
      "(31 de mayo)\n",
      "https://www.filmaffinity.com/es/film323347.html\n",
      "Tatami\n",
      "(31 de mayo)\n",
      "https://www.filmaffinity.com/es/film375002.html\n",
      "Iris\n",
      "(31 de mayo)\n",
      "https://www.filmaffinity.com/es/film240030.html\n",
      "La promesa de Irene\n",
      "(31 de mayo)\n",
      "https://www.filmaffinity.com/es/film807943.html\n",
      "La vida que querías (Serie de TV)\n",
      "(29 de mayo)\n",
      "https://www.filmaffinity.com/es/film288974.html\n",
      "Bailar para el diablo: La secta de 7M en TikTok (Serie de TV)\n",
      "(29 de mayo)\n",
      "https://www.filmaffinity.com/es/film868473.html\n",
      "Biónicos\n",
      "(29 de mayo)\n",
      "https://www.filmaffinity.com/es/film529939.html\n",
      "Los colores del mal: Rojo\n",
      "(29 de mayo)\n",
      "https://www.filmaffinity.com/es/film956922.html\n",
      "Atlas\n",
      "(24 de mayo)\n",
      "https://www.filmaffinity.com/es/film309627.html\n",
      "Mi querida oni\n",
      "(24 de mayo)\n",
      "https://www.filmaffinity.com/es/film321354.html\n",
      "Jurassic World: Teoría del dinocaos (Serie de TV)\n",
      "(24 de mayo)\n",
      "https://www.filmaffinity.com/es/film751355.html\n",
      "Mulligan (Serie de TV)\n",
      "(24 de mayo)\n",
      "https://www.filmaffinity.com/es/film555690.html\n",
      "Seven Orifices (Serie de TV)\n",
      "(24 de mayo)\n",
      "https://www.filmaffinity.com/es/film567887.html\n",
      "Mayor of Kingstown (Serie de TV)\n",
      "(6 de junio)\n",
      "https://www.filmaffinity.com/es/film650547.html\n",
      "Apples Never Fall (Un revés inesperado) (Miniserie de TV)\n",
      "(23 de abril)\n",
      "https://www.filmaffinity.com/es/film266173.html\n",
      "A Gentleman in Moscow (Un caballero en Moscú) (Miniserie de TV)\n",
      "(18 de abril)\n",
      "https://www.filmaffinity.com/es/film271406.html\n",
      "Boat Story (Miniserie de TV)\n",
      "(5 de abril)\n",
      "https://www.filmaffinity.com/es/film208194.html\n",
      "Star Trek: Discovery (Serie de TV)\n",
      "(5 de abril)\n",
      "https://www.filmaffinity.com/es/film549756.html\n",
      "Veronika (Serie de TV)\n",
      "(22 de marzo)\n",
      "https://www.filmaffinity.com/es/film981458.html\n",
      "Oppenheimer\n",
      "(21 de marzo)\n",
      "https://www.filmaffinity.com/es/film294474.html\n",
      "Mary & George (Miniserie de TV)\n",
      "(8 de marzo)\n",
      "https://www.filmaffinity.com/es/film220645.html\n",
      "Sexy Beast (Serie de TV)\n",
      "(7 de marzo)\n",
      "https://www.filmaffinity.com/es/film216423.html\n",
      "Camden, un barrio icónico (Miniserie de TV)\n",
      "(29 de mayo)\n",
      "https://www.filmaffinity.com/es/film532263.html\n",
      "The Beach Boys, el documental\n",
      "(24 de mayo)\n",
      "https://www.filmaffinity.com/es/film959882.html\n",
      "Así se hizo X-Men '97 (TV)\n",
      "(23 de mayo)\n",
      "https://www.filmaffinity.com/es/film969926.html\n",
      "Tini: Un mechón de pelo\n",
      "(16 de mayo)\n",
      "https://www.filmaffinity.com/es/film985800.html\n",
      "C.H.U.E.C.O. (Serie de TV)\n",
      "(15 de mayo)\n",
      "https://www.filmaffinity.com/es/film223638.html\n",
      "Doctor Who: Fifteenth Doctor (Serie de TV)\n",
      "(11 de mayo)\n",
      "https://www.filmaffinity.com/es/film574183.html\n",
      "Las largas sombras (Serie de TV)\n",
      "(10 de mayo)\n",
      "https://www.filmaffinity.com/es/film414999.html\n",
      "Los Simpson: Que el día de la madre te acompañe (C)\n",
      "(10 de mayo)\n",
      "https://www.filmaffinity.com/es/film475971.html\n",
      "Let It Be\n",
      "(8 de mayo)\n",
      "https://www.filmaffinity.com/es/film379016.html\n",
      "Informe+. Reyes, sonrisa y leyenda (TV)\n",
      "(29 de mayo)\n",
      "https://www.filmaffinity.com/es/film483959.html\n",
      "Mercy\n",
      "(29 de mayo)\n",
      "https://www.filmaffinity.com/es/film212102.html\n",
      "Suegros de alquiler. Agencia de engaños 2.0\n",
      "(28 de mayo)\n",
      "https://www.filmaffinity.com/es/film823184.html\n",
      "Lluvia ácida\n",
      "(27 de mayo)\n",
      "https://www.filmaffinity.com/es/film742897.html\n",
      "El caso del Sambre (Miniserie de TV)\n",
      "(27 de mayo)\n",
      "https://www.filmaffinity.com/es/film728839.html\n",
      "Un cielo de plástico\n",
      "(27 de mayo)\n",
      "https://www.filmaffinity.com/es/film965506.html\n",
      "Cuando termine la guerra\n",
      "(26 de mayo)\n",
      "https://www.filmaffinity.com/es/film434057.html\n",
      "Vida y muertes de Christopher Lee\n",
      "(25 de mayo)\n",
      "https://www.filmaffinity.com/es/film106749.html\n",
      "El correo\n",
      "(24 de mayo)\n",
      "https://www.filmaffinity.com/es/film257400.html\n",
      "Gaga Chromatica Ball\n",
      "(26 de mayo)\n",
      "https://www.filmaffinity.com/es/film340541.html\n",
      "El último día (Miniserie de TV)\n",
      "(24 de mayo)\n",
      "https://www.filmaffinity.com/es/film412911.html\n",
      "Acoustic Home (Serie de TV)\n",
      "(24 de mayo)\n",
      "https://www.filmaffinity.com/es/film722471.html\n",
      "Dune: Parte Dos\n",
      "(21 de mayo)\n",
      "https://www.filmaffinity.com/es/film180929.html\n",
      "La mano en el fuego (Miniserie de TV)\n",
      "(21 de mayo)\n",
      "https://www.filmaffinity.com/es/film478687.html\n",
      "Gremlins: Los secretos de los Mogwai (Serie de TV)\n",
      "(21 de mayo)\n",
      "https://www.filmaffinity.com/es/film314474.html\n",
      "Kevin Spacey: Al descubierto (Miniserie de TV)\n",
      "(14 de mayo)\n",
      "https://www.filmaffinity.com/es/film881268.html\n",
      "Nikki Glaser: Todos moriremos algún día\n",
      "(12 de mayo)\n",
      "https://www.filmaffinity.com/es/film341473.html\n",
      "Pequeñas mentirosas: Escuela de verano (Miniserie de TV)\n",
      "(9 de mayo)\n",
      "https://www.filmaffinity.com/es/film813671.html\n",
      "Atasco (Miniserie de TV)\n",
      "(24 de mayo)\n",
      "https://www.filmaffinity.com/es/film266807.html\n",
      "¿Quién lo mató? (Miniserie de TV)\n",
      "(24 de mayo)\n",
      "https://www.filmaffinity.com/es/film878969.html\n",
      "Concrete Utopia\n",
      "(24 de mayo)\n",
      "https://www.filmaffinity.com/es/film155751.html\n",
      "Dom (Serie de TV)\n",
      "(23 de mayo)\n",
      "https://www.filmaffinity.com/es/film303048.html\n",
      "Nahir\n",
      "(22 de mayo)\n",
      "https://www.filmaffinity.com/es/film560088.html\n",
      "El fichaje (Miniserie de TV)\n",
      "(22 de mayo)\n",
      "https://www.filmaffinity.com/es/film305559.html\n",
      "Slasher\n",
      "(21 de mayo)\n",
      "https://www.filmaffinity.com/es/film277594.html\n",
      "99 (Miniserie de TV)\n",
      "(17 de mayo)\n",
      "https://www.filmaffinity.com/es/film789407.html\n",
      "Ferrari\n",
      "(17 de mayo)\n",
      "https://www.filmaffinity.com/es/film786825.html\n",
      "Big Boys (Serie de TV)\n",
      "(28 de mayo)\n",
      "https://www.filmaffinity.com/es/film980001.html\n",
      "Jimmy in Saigon\n",
      "(27 de mayo)\n",
      "https://www.filmaffinity.com/es/film166848.html\n",
      "Las cuatro hijas\n",
      "(24 de mayo)\n",
      "https://www.filmaffinity.com/es/film543450.html\n",
      "El caso Goldman\n",
      "(24 de mayo)\n",
      "https://www.filmaffinity.com/es/film802362.html\n",
      "Ali y Ava\n",
      "(24 de mayo)\n",
      "https://www.filmaffinity.com/es/film304718.html\n",
      "Borderline\n",
      "(24 de mayo)\n",
      "https://www.filmaffinity.com/es/film818703.html\n",
      "Espiral de mentiras\n",
      "(24 de mayo)\n",
      "https://www.filmaffinity.com/es/film602056.html\n",
      "Donde más duele\n",
      "(24 de mayo)\n",
      "https://www.filmaffinity.com/es/film262297.html\n",
      "Novelda-Japón\n",
      "(24 de mayo)\n",
      "https://www.filmaffinity.com/es/film700462.html\n",
      "Ciclos (Serie de TV)\n",
      "(22 de mayo)\n",
      "https://www.filmaffinity.com/es/film734275.html\n",
      "The Big Cigar: La gran fuga (Miniserie de TV)\n",
      "(17 de mayo)\n",
      "https://www.filmaffinity.com/es/film295896.html\n",
      "Fraude en Hollywood (Miniserie de TV)\n",
      "(8 de mayo)\n",
      "https://www.filmaffinity.com/es/film338433.html\n",
      "Materia oscura (Serie de TV)\n",
      "(8 de mayo)\n",
      "https://www.filmaffinity.com/es/film996227.html\n",
      "Apple Music Live: Kacey Musgraves\n",
      "(8 de mayo)\n",
      "https://www.filmaffinity.com/es/film381140.html\n",
      "Acapulco (Serie de TV)\n",
      "(1 de mayo)\n",
      "https://www.filmaffinity.com/es/film599951.html\n",
      "El premio de tu vida (Serie de TV)\n",
      "(24 de abril)\n",
      "https://www.filmaffinity.com/es/film457976.html\n",
      "Jane (Serie de TV)\n",
      "(19 de abril)\n",
      "https://www.filmaffinity.com/es/film845245.html\n",
      "Benjamin Franklin (Miniserie de TV)\n",
      "(12 de abril)\n",
      "https://www.filmaffinity.com/es/film166279.html\n",
      "Los que se quedan\n",
      "(29 de mayo)\n",
      "https://www.filmaffinity.com/es/film119599.html\n",
      "Madame Web\n",
      "(29 de mayo)\n",
      "https://www.filmaffinity.com/es/film822735.html\n",
      "Los tres mosqueteros: Milady\n",
      "(29 de mayo)\n",
      "https://www.filmaffinity.com/es/film527551.html\n",
      "Cuando acecha la maldad\n",
      "(29 de mayo)\n",
      "https://www.filmaffinity.com/es/film375352.html\n",
      "Thabo y el caso del rinoceronte\n",
      "(29 de mayo)\n",
      "https://www.filmaffinity.com/es/film833192.html\n",
      "The First Slam Dunk\n",
      "(29 de mayo)\n",
      "https://www.filmaffinity.com/es/film885798.html\n",
      "Patrick\n",
      "(29 de mayo)\n",
      "https://www.filmaffinity.com/es/film842866.html\n",
      "Teddy, la magia de la Navidad\n",
      "(29 de mayo)\n",
      "https://www.filmaffinity.com/es/film167306.html\n",
      "Bob Marley: One Love\n",
      "(28 de mayo)\n",
      "https://www.filmaffinity.com/es/film622218.html\n",
      "The First Slam Dunk\n",
      "(28 de mayo)\n",
      "https://www.filmaffinity.com/es/film885798.html\n",
      "La tierra prometida (The Bastard)\n",
      "(27 de mayo)\n",
      "https://www.filmaffinity.com/es/film378585.html\n",
      "Milli Vanilli: Girl You Know It's True\n",
      "(27 de mayo)\n",
      "https://www.filmaffinity.com/es/film376311.html\n",
      "Miller's Girl\n",
      "(26 de mayo)\n",
      "https://www.filmaffinity.com/es/film478021.html\n",
      "Misántropo\n",
      "(24 de mayo)\n",
      "https://www.filmaffinity.com/es/film934348.html\n",
      "Sala de profesores\n",
      "(24 de mayo)\n",
      "https://www.filmaffinity.com/es/film580455.html\n",
      "Vermin: La plaga\n",
      "(24 de mayo)\n",
      "https://www.filmaffinity.com/es/film306627.html\n",
      "Katak, la pequeña ballena\n",
      "(24 de mayo)\n",
      "https://www.filmaffinity.com/es/film173836.html\n",
      "Noryang: La batalla final\n",
      "(17 de mayo)\n",
      "https://www.filmaffinity.com/es/film340361.html\n",
      "Eric (Miniserie de TV)\n",
      "(30 de mayo)\n",
      "https://www.filmaffinity.com/es/film440032.html\n",
      "Geek Girl (Serie de TV)\n",
      "(30 de mayo)\n",
      "https://www.filmaffinity.com/es/film327965.html\n",
      "Ni una más (Serie de TV)\n",
      "(31 de mayo)\n",
      "https://www.filmaffinity.com/es/film781700.html\n",
      "Una parte de ti\n",
      "(31 de mayo)\n",
      "https://www.filmaffinity.com/es/film474287.html\n",
      "Cómo cargarse el amor (Serie de TV)\n",
      "(31 de mayo)\n",
      "https://www.filmaffinity.com/es/film887258.html\n",
      "La herencia tiene un precio\n",
      "(4 de junio)\n",
      "https://www.filmaffinity.com/es/film898731.html\n",
      "Jo Koy: Live from Brooklyn (TV)\n",
      "(4 de junio)\n",
      "https://www.filmaffinity.com/es/film430166.html\n",
      "En las profundidades del Sena\n",
      "(5 de junio)\n",
      "https://www.filmaffinity.com/es/film654978.html\n",
      "Hitler y los nazis: La maldad a juicio (Serie de TV)\n",
      "(5 de junio)\n",
      "https://www.filmaffinity.com/es/film409708.html\n"
     ]
    }
   ],
   "source": [
    "for peli in cajon_central:\n",
    "    print(peli.find_element(By.TAG_NAME, 'div').text)\n",
    "    print(peli.find_element(By.TAG_NAME, 'a').get_attribute('href'))"
   ]
  },
  {
   "cell_type": "markdown",
   "metadata": {},
   "source": [
    "Vamos a ver cómo nos podemos mover entre ventanas del navegador\n",
    "\n",
    "Abrir nueva ventana:"
   ]
  },
  {
   "cell_type": "code",
   "execution_count": 53,
   "metadata": {},
   "outputs": [],
   "source": [
    "driver.execute_script('window.open(\"\");')"
   ]
  },
  {
   "cell_type": "markdown",
   "metadata": {},
   "source": [
    "Movernos a otra ventana"
   ]
  },
  {
   "cell_type": "code",
   "execution_count": 56,
   "metadata": {},
   "outputs": [],
   "source": [
    "driver.switch_to.window(driver.window_handles[1])"
   ]
  },
  {
   "cell_type": "markdown",
   "metadata": {},
   "source": [
    "Cerrar ventana"
   ]
  },
  {
   "cell_type": "code",
   "execution_count": 57,
   "metadata": {},
   "outputs": [],
   "source": [
    "driver.close()"
   ]
  },
  {
   "cell_type": "markdown",
   "metadata": {},
   "source": [
    "Una vez cerramos la ventana tenemos que indicarle a qué ventana tiene que ir"
   ]
  },
  {
   "cell_type": "code",
   "execution_count": 59,
   "metadata": {
    "ExecuteTime": {
     "end_time": "2021-02-25T12:05:01.711952Z",
     "start_time": "2021-02-25T12:05:01.583709Z"
    }
   },
   "outputs": [],
   "source": [
    "driver.switch_to.window(driver.window_handles[-1])"
   ]
  },
  {
   "cell_type": "code",
   "execution_count": 63,
   "metadata": {},
   "outputs": [],
   "source": [
    "# driver.close()"
   ]
  },
  {
   "cell_type": "code",
   "execution_count": 64,
   "metadata": {},
   "outputs": [
    {
     "name": "stdout",
     "output_type": "stream",
     "text": [
      "['Saltar al contenido principal', 'Saltar al contenido principal', 'Saltar al contenido principal', 'Saltar al contenido principal']\n"
     ]
    }
   ],
   "source": [
    "service = Service(executable_path='./chromedriver.exe')\n",
    "options = webdriver.ChromeOptions()\n",
    "driver = webdriver.Chrome(service=service, options=options)\n",
    "time.sleep(3)\n",
    "\n",
    "driver.get(\"http://www.google.es\")\n",
    "loadMore = driver.find_element(By.XPATH, '/html/body/div[2]/div[2]/div[3]/span/div/div/div/div[3]/div[1]/button[1]/div')\n",
    "loadMore.click()\n",
    "\n",
    "lista_conceptos = [\"precio bitcoin\", \"precio ethereum\", \"precio sp500\", \"precio oro\"]\n",
    "search_box = driver.find_element(By.XPATH, \"/html/body/div[1]/div[3]/form/div[1]/div[1]/div[1]/div/div[2]/textarea\")\n",
    "lista_titulos = []\n",
    "\n",
    "for concepto in lista_conceptos:\n",
    "    search_box.send_keys(concepto)\n",
    "    search_box.submit()\n",
    "    link = driver.find_element(By.TAG_NAME, \"a\")\n",
    "    lista_titulos.append(link.text)\n",
    "    time.sleep(5)\n",
    "    driver.back()\n",
    "print(lista_titulos)"
   ]
  },
  {
   "cell_type": "code",
   "execution_count": 65,
   "metadata": {},
   "outputs": [],
   "source": [
    "driver.quit()"
   ]
  }
 ],
 "metadata": {
  "hide_input": false,
  "kernelspec": {
   "display_name": "Python 3.7.4 64-bit",
   "language": "python",
   "name": "python3"
  },
  "language_info": {
   "codemirror_mode": {
    "name": "ipython",
    "version": 3
   },
   "file_extension": ".py",
   "mimetype": "text/x-python",
   "name": "python",
   "nbconvert_exporter": "python",
   "pygments_lexer": "ipython3",
   "version": "3.11.3"
  },
  "nbTranslate": {
   "displayLangs": [
    "*"
   ],
   "hotkey": "alt-t",
   "langInMainMenu": true,
   "sourceLang": "en",
   "targetLang": "fr",
   "useGoogleTranslate": true
  },
  "varInspector": {
   "cols": {
    "lenName": 16,
    "lenType": 16,
    "lenVar": 40
   },
   "kernels_config": {
    "python": {
     "delete_cmd_postfix": "",
     "delete_cmd_prefix": "del ",
     "library": "var_list.py",
     "varRefreshCmd": "print(var_dic_list())"
    },
    "r": {
     "delete_cmd_postfix": ") ",
     "delete_cmd_prefix": "rm(",
     "library": "var_list.r",
     "varRefreshCmd": "cat(var_dic_list()) "
    }
   },
   "types_to_exclude": [
    "module",
    "function",
    "builtin_function_or_method",
    "instance",
    "_Feature"
   ],
   "window_display": false
  },
  "vscode": {
   "interpreter": {
    "hash": "90139cb9a825bf3d63f6f6704e828dbd1ff7edbd4d0c6e906a71235d6efc74af"
   }
  }
 },
 "nbformat": 4,
 "nbformat_minor": 2
}
