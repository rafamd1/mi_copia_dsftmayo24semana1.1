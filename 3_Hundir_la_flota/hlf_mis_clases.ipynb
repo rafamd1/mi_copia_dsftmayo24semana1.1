{
 "cells": [
  {
   "cell_type": "code",
   "execution_count": 61,
   "metadata": {},
   "outputs": [],
   "source": [
    "\n",
    "TAMANO_TABLERO = 10\n",
    "BARCOS = {\n",
    "    \"barco_1_1\": 1,\n",
    "    \"barco_1_2\": 1,\n",
    "    \"barco_1_3\": 1,\n",
    "    \"barco_1_4\": 1,\n",
    "    \"barco_2_1\": 2,\n",
    "    \"barco_2_2\": 2,\n",
    "    \"barco_2_3\": 2,\n",
    "    \"barco_3_1\": 3,\n",
    "    \"barco_3_2\": 3,\n",
    "    \"barco_4_1\": 4,\n",
    "}"
   ]
  },
  {
   "cell_type": "code",
   "execution_count": 62,
   "metadata": {},
   "outputs": [],
   "source": [
    "# inicializar tablero\n",
    "\n",
    "tablero_jugador1= np.full(fill_value = \" \", shape = [10,10])\n",
    "tablero_maquina= np.full(fill_value = \" \", shape = [10,10])\n"
   ]
  },
  {
   "cell_type": "code",
   "execution_count": 63,
   "metadata": {},
   "outputs": [],
   "source": [
    "import random\n",
    "\n",
    "def fila_random():\n",
    "  return random.randint(0, TAMANO_TABLERO - 1)\n",
    "\n",
    "def columna_random():\n",
    "  return random.randint(0, TAMANO_TABLERO - 1)\n",
    "\n",
    "def coloca_barcos(barco, tamano, tablero):\n",
    "\n",
    "  fila = fila_random()\n",
    "  col = columna_random()\n",
    "\n",
    "  orientacion_vertical = random.choice([True, False])\n",
    "\n",
    "  if orientacion_vertical:\n",
    "    if fila + tamano > TAMANO_TABLERO:\n",
    "      return False\n",
    "\n",
    "    for i in range(tamano):\n",
    "      tablero[fila+i][col] = barco[0]\n",
    "  else:\n",
    "    if col + tamano > TAMANO_TABLERO:\n",
    "      return False\n",
    "\n",
    "    for i in range(tamano):\n",
    "      tablero[fila][col+i] = barco[0]\n",
    "\n",
    "  return True"
   ]
  },
  {
   "cell_type": "code",
   "execution_count": 64,
   "metadata": {},
   "outputs": [],
   "source": [
    "for barco, tamano in BARCOS.items():\n",
    "  while True:\n",
    "    colocado = coloca_barcos(barco, tamano, tablero)\n",
    "    if colocado:\n",
    "      break"
   ]
  },
  {
   "cell_type": "code",
   "execution_count": 65,
   "metadata": {},
   "outputs": [],
   "source": [
    "def movimiento_jugador():\n",
    "\n",
    "  print(\"Inserte fila y columna (separados por un espacio) para disparar:\")\n",
    "\n",
    "  fila, col = input().split()\n",
    "  fila, col = int(fila), int(col)\n",
    "\n",
    "  simbolo = tablero_maquina[fila][col]\n",
    "\n",
    "  if simbolo == 'X' or simbolo == '-':\n",
    "    print(\"Ya has disparado aqui\")\n",
    "    return\n",
    "\n",
    "  if simbolo == ' ':\n",
    "    print(\"Has fallado\")\n",
    "    tablero_maquina[fila][col] = '-'\n",
    "  else:\n",
    "    print(\"Le has dado\")\n",
    "    tablero_maquina[fila][col] = 'X'"
   ]
  },
  {
   "cell_type": "code",
   "execution_count": 69,
   "metadata": {},
   "outputs": [],
   "source": [
    "def movimiento_maquina():\n",
    "\n",
    "  fila = fila_random()\n",
    "  col = columna_random()\n",
    "\n",
    "  simbolo = tablero_jugador1[fila][col]\n",
    "\n",
    "  if simbolo == 'X' or simbolo == '-':\n",
    "    return\n",
    "\n",
    "  if simbolo == ' ':\n",
    "    print(\"Has fallado\")\n",
    "    tablero_jugador1[fila][col] = '-'\n",
    "  else:\n",
    "    print(\"Le has dado\")\n",
    "    tablero_jugador1\n",
    "    [fila][col] = 'X'"
   ]
  },
  {
   "cell_type": "code",
   "execution_count": 70,
   "metadata": {},
   "outputs": [
    {
     "name": "stdout",
     "output_type": "stream",
     "text": [
      "Inserte fila y columna (separados por un espacio) para disparar:\n",
      "Ya has disparado aqui\n",
      "[[' ' ' ' ' ' ' ' ' ' ' ' ' ' ' ' ' ' ' ']\n",
      " [' ' ' ' ' ' ' ' ' ' ' ' ' ' ' ' ' ' ' ']\n",
      " [' ' ' ' ' ' ' ' ' ' ' ' ' ' ' ' ' ' ' ']\n",
      " [' ' ' ' ' ' ' ' ' ' 'X' ' ' ' ' ' ' ' ']\n",
      " [' ' ' ' ' ' ' ' ' ' ' ' ' ' ' ' ' ' ' ']\n",
      " [' ' ' ' ' ' ' ' ' ' ' ' ' ' ' ' ' ' ' ']\n",
      " [' ' ' ' ' ' ' ' ' ' ' ' ' ' ' ' ' ' ' ']\n",
      " [' ' ' ' ' ' ' ' ' ' ' ' ' ' ' ' ' ' ' ']\n",
      " [' ' ' ' ' ' ' ' ' ' ' ' ' ' ' ' ' ' ' ']\n",
      " [' ' ' ' ' ' ' ' ' ' ' ' ' ' ' ' ' ' ' ']]\n",
      "Has fallado\n",
      "[[' ' '-' ' ' ' ' ' ' ' ' ' ' ' ' ' ' ' ']\n",
      " [' ' ' ' ' ' ' ' ' ' ' ' ' ' ' ' ' ' ' ']\n",
      " [' ' ' ' ' ' ' ' ' ' ' ' ' ' ' ' ' ' ' ']\n",
      " [' ' ' ' ' ' ' ' ' ' ' ' ' ' ' ' ' ' ' ']\n",
      " [' ' ' ' ' ' ' ' ' ' ' ' ' ' ' ' ' ' ' ']\n",
      " [' ' ' ' ' ' ' ' ' ' ' ' ' ' ' ' ' ' ' ']\n",
      " [' ' ' ' ' ' ' ' ' ' ' ' ' ' ' ' ' ' ' ']\n",
      " [' ' ' ' ' ' ' ' ' ' ' ' ' ' ' ' ' ' ' ']\n",
      " [' ' ' ' ' ' ' ' ' ' ' ' ' ' ' ' ' ' ' ']\n",
      " [' ' ' ' ' ' ' ' ' ' ' ' ' ' ' ' ' ' ' ']]\n",
      "Inserte fila y columna (separados por un espacio) para disparar:\n",
      "Le has dado\n",
      "[[' ' ' ' ' ' ' ' ' ' ' ' ' ' ' ' ' ' ' ']\n",
      " [' ' ' ' ' ' ' ' ' ' ' ' ' ' ' ' ' ' ' ']\n",
      " [' ' ' ' ' ' ' ' ' ' ' ' ' ' ' ' ' ' ' ']\n",
      " [' ' ' ' ' ' ' ' ' ' 'X' ' ' ' ' ' ' ' ']\n",
      " [' ' ' ' ' ' ' ' ' ' ' ' ' ' ' ' ' ' ' ']\n",
      " [' ' ' ' ' ' ' ' ' ' ' ' ' ' ' ' 'X' ' ']\n",
      " [' ' ' ' ' ' ' ' ' ' ' ' ' ' ' ' ' ' ' ']\n",
      " [' ' ' ' ' ' ' ' ' ' ' ' ' ' ' ' ' ' ' ']\n",
      " [' ' ' ' ' ' ' ' ' ' ' ' ' ' ' ' ' ' ' ']\n",
      " [' ' ' ' ' ' ' ' ' ' ' ' ' ' ' ' ' ' ' ']]\n",
      "Has fallado\n",
      "[[' ' '-' ' ' ' ' ' ' '-' ' ' ' ' ' ' ' ']\n",
      " [' ' ' ' ' ' ' ' ' ' ' ' ' ' ' ' ' ' ' ']\n",
      " [' ' ' ' ' ' ' ' ' ' ' ' ' ' ' ' ' ' ' ']\n",
      " [' ' ' ' ' ' ' ' ' ' ' ' ' ' ' ' ' ' ' ']\n",
      " [' ' ' ' ' ' ' ' ' ' ' ' ' ' ' ' ' ' ' ']\n",
      " [' ' ' ' ' ' ' ' ' ' ' ' ' ' ' ' ' ' ' ']\n",
      " [' ' ' ' ' ' ' ' ' ' ' ' ' ' ' ' ' ' ' ']\n",
      " [' ' ' ' ' ' ' ' ' ' ' ' ' ' ' ' ' ' ' ']\n",
      " [' ' ' ' ' ' ' ' ' ' ' ' ' ' ' ' ' ' ' ']\n",
      " [' ' ' ' ' ' ' ' ' ' ' ' ' ' ' ' ' ' ' ']]\n",
      "Inserte fila y columna (separados por un espacio) para disparar:\n"
     ]
    },
    {
     "ename": "ValueError",
     "evalue": "not enough values to unpack (expected 2, got 0)",
     "output_type": "error",
     "traceback": [
      "\u001b[1;31m---------------------------------------------------------------------------\u001b[0m",
      "\u001b[1;31mValueError\u001b[0m                                Traceback (most recent call last)",
      "Cell \u001b[1;32mIn[70], line 2\u001b[0m\n\u001b[0;32m      1\u001b[0m \u001b[38;5;28;01mwhile\u001b[39;00m \u001b[38;5;28;01mTrue\u001b[39;00m:\n\u001b[1;32m----> 2\u001b[0m   \u001b[43mmovimiento_jugador\u001b[49m\u001b[43m(\u001b[49m\u001b[43m)\u001b[49m\n\u001b[0;32m      3\u001b[0m   \u001b[38;5;28mprint\u001b[39m(tablero_maquina)\n\u001b[0;32m      5\u001b[0m   movimiento_maquina()\n",
      "Cell \u001b[1;32mIn[65], line 7\u001b[0m, in \u001b[0;36mmovimiento_jugador\u001b[1;34m()\u001b[0m\n\u001b[0;32m      3\u001b[0m \u001b[38;5;28;01mdef\u001b[39;00m \u001b[38;5;21mmovimiento_jugador\u001b[39m():\n\u001b[0;32m      5\u001b[0m   \u001b[38;5;28mprint\u001b[39m(\u001b[38;5;124m\"\u001b[39m\u001b[38;5;124mInserte fila y columna (separados por un espacio) para disparar:\u001b[39m\u001b[38;5;124m\"\u001b[39m)\n\u001b[1;32m----> 7\u001b[0m   fila, col \u001b[38;5;241m=\u001b[39m \u001b[38;5;28minput\u001b[39m()\u001b[38;5;241m.\u001b[39msplit()\n\u001b[0;32m      8\u001b[0m   fila, col \u001b[38;5;241m=\u001b[39m \u001b[38;5;28mint\u001b[39m(fila), \u001b[38;5;28mint\u001b[39m(col)\n\u001b[0;32m     10\u001b[0m   simbolo \u001b[38;5;241m=\u001b[39m tablero_maquina[fila][col]\n",
      "\u001b[1;31mValueError\u001b[0m: not enough values to unpack (expected 2, got 0)"
     ]
    }
   ],
   "source": [
    "while True:\n",
    "  movimiento_jugador()\n",
    "  print(tablero_maquina)\n",
    "\n",
    "  movimiento_maquina()\n",
    "  print(tablero_jugador1)"
   ]
  },
  {
   "cell_type": "code",
   "execution_count": null,
   "metadata": {},
   "outputs": [],
   "source": []
  },
  {
   "cell_type": "code",
   "execution_count": null,
   "metadata": {},
   "outputs": [],
   "source": []
  },
  {
   "cell_type": "code",
   "execution_count": null,
   "metadata": {},
   "outputs": [],
   "source": []
  }
 ],
 "metadata": {
  "kernelspec": {
   "display_name": "Python 3",
   "language": "python",
   "name": "python3"
  },
  "language_info": {
   "codemirror_mode": {
    "name": "ipython",
    "version": 3
   },
   "file_extension": ".py",
   "mimetype": "text/x-python",
   "name": "python",
   "nbconvert_exporter": "python",
   "pygments_lexer": "ipython3",
   "version": "3.12.3"
  }
 },
 "nbformat": 4,
 "nbformat_minor": 2
}
