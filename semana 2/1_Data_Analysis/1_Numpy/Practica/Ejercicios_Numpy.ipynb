{
 "cells": [
  {
   "cell_type": "markdown",
   "metadata": {},
   "source": [
    "![imagen](./img/ejercicios.png)"
   ]
  },
  {
   "cell_type": "markdown",
   "metadata": {},
   "source": [
    "## Ejercicio 1\n",
    "Crea un array de una dimensión que vaya de 0 a 9. Llamalo `my_array`"
   ]
  },
  {
   "cell_type": "code",
   "execution_count": 1,
   "metadata": {},
   "outputs": [
    {
     "name": "stdout",
     "output_type": "stream",
     "text": [
      "[0 1 2 3 4 5 6 7 8 9]\n"
     ]
    }
   ],
   "source": [
    "import numpy as np\n",
    "\n",
    "my_array =np.arange(10)\n",
    "print(my_array)"
   ]
  },
  {
   "cell_type": "markdown",
   "metadata": {},
   "source": [
    "## Ejercicio 2\n",
    "Extrae todos los impares de `my_array`:\n",
    "1. Mediante bucle for\n",
    "2. Mediante list comprehension\n",
    "3. Mediante máscaras"
   ]
  },
  {
   "cell_type": "code",
   "execution_count": 2,
   "metadata": {},
   "outputs": [
    {
     "name": "stdout",
     "output_type": "stream",
     "text": [
      "1. [1 3 5 7 9]\n",
      "2. [1 3 5 7 9]\n",
      "3. [1 3 5 7 9]\n"
     ]
    }
   ],
   "source": [
    "lista_impares= []\n",
    "for i in range(len(my_array)):\n",
    "    if i % 2 == 1:\n",
    "        lista_impares.append(i)\n",
    "    else:\n",
    "        continue\n",
    "\n",
    "print(\"1.\", np.array(lista_impares))\n",
    "\n",
    "lista1 = list(np.arange(10))\n",
    "# print(lista1)\n",
    "\n",
    "\n",
    "lista_impares2 = [i for i in lista1 if i % 2 == 1]\n",
    " \n",
    "print(\"2.\", np.array(lista_impares2))\n",
    "\n",
    "lista_impares3= np.where(my_array%2)\n",
    "\n",
    "print(\"3.\", my_array[lista_impares3])\n",
    " "
   ]
  },
  {
   "cell_type": "markdown",
   "metadata": {},
   "source": [
    "## Ejercicio 3\n",
    "En un nuevo array, sustituye todos los impares de `my_array` por -1.\n",
    "1. Mediante máscaras\n",
    "2. Mediante un `where`"
   ]
  },
  {
   "cell_type": "code",
   "execution_count": 3,
   "metadata": {},
   "outputs": [
    {
     "name": "stdout",
     "output_type": "stream",
     "text": [
      "[ 0 -1  2 -1  4 -1  6 -1  8 -1 10 -1 12 -1 14 -1 16 -1 18 -1]\n",
      "[ 0 -1  2 -1  4 -1  6 -1  8 -1 10 -1 12 -1 14 -1 16 -1 18 -1]\n"
     ]
    }
   ],
   "source": [
    "my_array3= np.arange(20)\n",
    "list_masc= []\n",
    "for i in range(len(my_array3)):\n",
    "    if i % 2:\n",
    "        list_masc.append(-1)\n",
    "    else:\n",
    "        list_masc.append(i)\n",
    "\n",
    "print(np.array(list_masc))\n",
    "\n",
    "lista_sust_impares_where= np.where(my_array3%2, -1, my_array3)\n",
    "print(lista_sust_impares_where)"
   ]
  },
  {
   "cell_type": "markdown",
   "metadata": {},
   "source": [
    "## Ejercicio 4\n",
    "Imprime por pantalla la secuencia [8 7] del array `my_array`"
   ]
  },
  {
   "cell_type": "code",
   "execution_count": 4,
   "metadata": {},
   "outputs": [
    {
     "name": "stdout",
     "output_type": "stream",
     "text": [
      "[8 7]\n"
     ]
    }
   ],
   "source": [
    "print(my_array[8:6:-1])"
   ]
  },
  {
   "cell_type": "markdown",
   "metadata": {},
   "source": [
    "## Ejercicio 5\n",
    "Convierte `my_array` en un nuevo array de dos dimensiones mediante `reshape`."
   ]
  },
  {
   "cell_type": "code",
   "execution_count": 5,
   "metadata": {},
   "outputs": [
    {
     "name": "stdout",
     "output_type": "stream",
     "text": [
      "[[0 1 2 3 4]\n",
      " [5 6 7 8 9]]\n"
     ]
    }
   ],
   "source": [
    "print(my_array.reshape(2,5))"
   ]
  },
  {
   "cell_type": "markdown",
   "metadata": {},
   "source": [
    "## Ejercicio 6\n",
    "Concatena los siguientes arrays verticalmente\n",
    "\n",
    "```Python\n",
    "a = np.arange(10).reshape(2,-1)\n",
    "b = np.repeat(1, 10).reshape(2,-1)\n",
    "```"
   ]
  },
  {
   "cell_type": "code",
   "execution_count": 6,
   "metadata": {},
   "outputs": [
    {
     "name": "stdout",
     "output_type": "stream",
     "text": [
      "[[0 1 2 3 4]\n",
      " [5 6 7 8 9]]\n",
      "[[1 1 1 1 1]\n",
      " [1 1 1 1 1]]\n"
     ]
    },
    {
     "data": {
      "text/plain": [
       "array([[0, 1, 2, 3, 4],\n",
       "       [5, 6, 7, 8, 9],\n",
       "       [1, 1, 1, 1, 1],\n",
       "       [1, 1, 1, 1, 1]])"
      ]
     },
     "execution_count": 6,
     "metadata": {},
     "output_type": "execute_result"
    }
   ],
   "source": [
    "a = np.arange(10).reshape(2,-1)\n",
    "b = np.repeat(1, 10).reshape(2,-1)\n",
    "\n",
    "print(a)\n",
    "print(b)\n",
    "\n",
    "np.vstack([a,b])"
   ]
  },
  {
   "cell_type": "markdown",
   "metadata": {},
   "source": [
    "## Ejercicio 7\n",
    "Concatena los siguientes arrays horizontamente\n",
    "\n",
    "```Python\n",
    "a = np.arange(10).reshape(2,-1)\n",
    "b = np.repeat(1, 10).reshape(2,-1)\n",
    "```"
   ]
  },
  {
   "cell_type": "code",
   "execution_count": 7,
   "metadata": {},
   "outputs": [
    {
     "data": {
      "text/plain": [
       "array([[0, 1, 2, 3, 4, 1, 1, 1, 1, 1],\n",
       "       [5, 6, 7, 8, 9, 1, 1, 1, 1, 1]])"
      ]
     },
     "execution_count": 7,
     "metadata": {},
     "output_type": "execute_result"
    }
   ],
   "source": [
    "a = np.arange(10).reshape(2,-1)\n",
    "b = np.repeat(1, 10).reshape(2,-1)\n",
    "\n",
    "\n",
    "np.hstack([a,b])"
   ]
  },
  {
   "cell_type": "markdown",
   "metadata": {},
   "source": [
    "## Ejercicio 8\n",
    "Crea un array unidimensional que vaya del 0 al 9. Llámalo `my_array`. \n",
    "1. Multiplica cada uno de los elementos de `my_array` por 10, en un nuevo array\n",
    "2. Accede al primer elemento de `my_array`\n",
    "3. Accede al último elemento de `my_array`\n",
    "4. Imprime por pantalla los numeros del 1 al 7 de `my_array`"
   ]
  },
  {
   "cell_type": "code",
   "execution_count": 8,
   "metadata": {},
   "outputs": [
    {
     "name": "stdout",
     "output_type": "stream",
     "text": [
      "[ 0 10 20 30 40 50 60 70 80 90]\n",
      "0\n",
      "9\n",
      "[1 2 3 4 5 6 7]\n"
     ]
    }
   ],
   "source": [
    "my_array4= my_array * 10\n",
    "print(my_array4)\n",
    "\n",
    "print(my_array[0])\n",
    "print(my_array[-1])\n",
    "print(my_array[1:8])"
   ]
  },
  {
   "cell_type": "markdown",
   "metadata": {},
   "source": [
    "## Ejercicio 9\n",
    "Obtén las siguientes secuencias:\n",
    "\n",
    "```Python\n",
    "[ 1,  4,  7, 10, 13, 16, 19, 22, 25, 28, 31, 34, 37, 40, 43, 46, 49]\n",
    "```\n",
    "```Python\n",
    "[4., 3.75, 3.5 , 3.25, 3.  , 2.75, 2.5 , 2.25, 2., 1.75, 1.5 ,1.25]\n",
    "```"
   ]
  },
  {
   "cell_type": "code",
   "execution_count": null,
   "metadata": {},
   "outputs": [],
   "source": [
    "print(np.arange(1, 50, 3))\n",
    "\n",
    "print(np.arange(4,1, -0.25))"
   ]
  },
  {
   "cell_type": "markdown",
   "metadata": {},
   "source": [
    "## Ejercicio 10\n",
    "Lee la imagen \"numpy.png\""
   ]
  },
  {
   "cell_type": "code",
   "execution_count": 9,
   "metadata": {},
   "outputs": [
    {
     "name": "stdout",
     "output_type": "stream",
     "text": [
      "<class 'numpy.ndarray'>\n",
      "(306, 765, 4)\n"
     ]
    },
    {
     "data": {
      "text/plain": [
       "<matplotlib.image.AxesImage at 0x1b518c89760>"
      ]
     },
     "execution_count": 9,
     "metadata": {},
     "output_type": "execute_result"
    },
    {
     "data": {
      "image/png": "[encoded data removed]",
      "text/plain": [
       "<Figure size 640x480 with 1 Axes>"
      ]
     },
     "metadata": {},
     "output_type": "display_data"
    }
   ],
   "source": [
    "import matplotlib.pyplot as plt\n",
    "import seaborn; seaborn.set()  # set plot style\n",
    "\n",
    "\n",
    "from PIL import Image\n",
    "\n",
    "# Carga la imagen usando Pillow\n",
    "imagen_pillow = Image.open('./img/numpy.png')\n",
    "\n",
    "# Convierte la imagen en un array numpy\n",
    "imagen = np.array(imagen_pillow)\n",
    "\n",
    "print(type(imagen))\n",
    "print(imagen.shape)\n",
    "\n",
    "plt.imshow(imagen)"
   ]
  },
  {
   "cell_type": "markdown",
   "metadata": {},
   "source": [
    "## Ejercicio 11\n",
    "Crea una secuencia aleatoria. La secuencia se tiene que componer de 4 matrices de 5x3. Serían 3 dimensiones diferentes."
   ]
  },
  {
   "cell_type": "code",
   "execution_count": 10,
   "metadata": {},
   "outputs": [
    {
     "name": "stdout",
     "output_type": "stream",
     "text": [
      "[[[7 7 4]\n",
      "  [4 8 7]\n",
      "  [0 6 7]\n",
      "  [8 0 7]\n",
      "  [8 1 0]]\n",
      "\n",
      " [[9 0 0]\n",
      "  [5 6 3]\n",
      "  [0 4 5]\n",
      "  [5 0 1]\n",
      "  [0 5 2]]\n",
      "\n",
      " [[6 1 6]\n",
      "  [5 9 8]\n",
      "  [0 7 3]\n",
      "  [2 4 3]\n",
      "  [6 8 5]]\n",
      "\n",
      " [[3 9 1]\n",
      "  [0 8 4]\n",
      "  [8 2 9]\n",
      "  [2 2 7]\n",
      "  [2 2 9]]]\n"
     ]
    }
   ],
   "source": [
    "secuencia= np.random.randint(10, size = (4,5,3))\n",
    "\n",
    "print(secuencia)"
   ]
  },
  {
   "cell_type": "markdown",
   "metadata": {},
   "source": [
    "## Ejercicio 12\n",
    "1. Crea una matriz de 4x5, con una secuencia del 1 al 20\n",
    "2. Invierte totalmente la matriz. Tanto las filas, como las columnas"
   ]
  },
  {
   "cell_type": "code",
   "execution_count": 11,
   "metadata": {},
   "outputs": [
    {
     "name": "stdout",
     "output_type": "stream",
     "text": [
      "[[16 16 14  6  3]\n",
      " [ 3  5 11 12 15]\n",
      " [ 5 18  3  2 15]\n",
      " [13 15 16  5 16]]\n"
     ]
    }
   ],
   "source": [
    "A= np.random.randint(1,20, size = (4,5))\n",
    "\n",
    "print(A)\n",
    "\n",
    "# No se puede invertir una matris que no sea cuadrada. Dde serlo, su inversa seria: A_inv = A.inv()\n"
   ]
  },
  {
   "cell_type": "markdown",
   "metadata": {},
   "source": [
    "## Ejercicio 13\n",
    "\n",
    "Obtén el siguiente array, partiendo de la matriz del ejercicio 4\n",
    "```Python\n",
    "array([[1, 2],\n",
    "       [6, 7]])\n",
    "```"
   ]
  },
  {
   "cell_type": "code",
   "execution_count": 12,
   "metadata": {},
   "outputs": [
    {
     "name": "stdout",
     "output_type": "stream",
     "text": [
      "[[1 2]\n",
      " [6 7]]\n"
     ]
    }
   ],
   "source": [
    "my_array_slice1 = my_array[1:3]\n",
    "my_array_slice2 = my_array[6:8]\n",
    "\n",
    "print(np.vstack([my_array_slice1,my_array_slice2]))"
   ]
  },
  {
   "cell_type": "markdown",
   "metadata": {},
   "source": [
    "## Ejercicio 14\n",
    "\n",
    "Crea un array de 10 0s. ¿Cuánto ocupa en memoria ocupa en bytes y en bits?\n"
   ]
  },
  {
   "cell_type": "code",
   "execution_count": 21,
   "metadata": {},
   "outputs": [
    {
     "name": "stdout",
     "output_type": "stream",
     "text": [
      "40\n"
     ]
    }
   ],
   "source": [
    "mi_lista5=[0] * 10\n",
    "my_array5= np.array(mi_lista5)\n",
    "\n",
    "print(my_array5.nbytes)"
   ]
  },
  {
   "cell_type": "code",
   "execution_count": null,
   "metadata": {},
   "outputs": [],
   "source": [
    "# todo el array ocupa 40 bytes"
   ]
  },
  {
   "cell_type": "markdown",
   "metadata": {},
   "source": [
    "## Ejercicio 15\n",
    "Encuentra los índices de los valores que no sean 0 del siguiente vector [1,2,0,0,4,0]. El output sería [0, 1, 4]. Encapsúlalo en una función, con un argumento de entrada de un vector."
   ]
  },
  {
   "cell_type": "code",
   "execution_count": 22,
   "metadata": {},
   "outputs": [
    {
     "name": "stdout",
     "output_type": "stream",
     "text": [
      "[0, 1, 4]\n"
     ]
    }
   ],
   "source": [
    "vector1= [1,2,0,0,4,0]\n",
    "\n",
    "def indices_distintos_cero(vector):\n",
    "    return [index for index, value in enumerate(vector) if value != 0]\n",
    "\n",
    "resultado = indices_distintos_cero(vector1)\n",
    "print(resultado)\n"
   ]
  },
  {
   "cell_type": "markdown",
   "metadata": {},
   "source": [
    "## Ejercicio 16\n",
    "Crea una matriz de números aleatorios 10x10. Encuentra los valores mínimo y máximo, sumatorio, media y mediana."
   ]
  },
  {
   "cell_type": "code",
   "execution_count": 25,
   "metadata": {},
   "outputs": [
    {
     "name": "stdout",
     "output_type": "stream",
     "text": [
      "[[1 2 4 2 0 0 3 1 4 3]\n",
      " [4 3 3 4 1 2 1 1 1 0]\n",
      " [4 1 1 2 4 2 2 2 4 2]\n",
      " [0 2 3 1 4 4 2 0 4 3]\n",
      " [0 0 2 2 1 4 0 2 1 2]\n",
      " [0 3 2 1 3 1 2 2 2 1]\n",
      " [2 0 0 1 3 1 3 3 1 3]\n",
      " [4 1 2 0 3 0 2 0 4 1]\n",
      " [2 1 1 4 0 3 0 0 4 0]\n",
      " [0 4 4 4 0 1 3 2 4 1]]\n",
      "4\n",
      "0\n",
      "190\n",
      "1.9\n",
      "2.0\n"
     ]
    }
   ],
   "source": [
    "mat1= np.random.randint(5, size = (10,10))\n",
    "\n",
    "print(mat1)\n",
    "\n",
    "print(np.max(mat1))\n",
    "\n",
    "print(np.min(mat1))\n",
    "\n",
    "print(np.sum(mat1))\n",
    "\n",
    "print(np.mean(mat1))\n",
    "\n",
    "print(np.median(mat1))"
   ]
  },
  {
   "cell_type": "markdown",
   "metadata": {},
   "source": [
    "## Ejercicio 17\n",
    "Crea una matriz de 8x8, y rellénala con 0s y 1s. Tienes que replicar:\n",
    "```Python\n",
    "[[0 1 0 1 0 1 0 1]\n",
    " [1 0 1 0 1 0 1 0]\n",
    " [0 1 0 1 0 1 0 1]\n",
    " [1 0 1 0 1 0 1 0]\n",
    " [0 1 0 1 0 1 0 1]\n",
    " [1 0 1 0 1 0 1 0]\n",
    " [0 1 0 1 0 1 0 1]\n",
    " [1 0 1 0 1 0 1 0]]\n",
    "```"
   ]
  },
  {
   "cell_type": "code",
   "execution_count": 26,
   "metadata": {},
   "outputs": [
    {
     "name": "stdout",
     "output_type": "stream",
     "text": [
      "[0, 1, 0, 1, 0, 1, 0, 1]\n",
      "[1, 0, 1, 0, 1, 0, 1, 0]\n",
      "[0, 1, 0, 1, 0, 1, 0, 1]\n",
      "[1, 0, 1, 0, 1, 0, 1, 0]\n",
      "[0, 1, 0, 1, 0, 1, 0, 1]\n",
      "[1, 0, 1, 0, 1, 0, 1, 0]\n",
      "[0, 1, 0, 1, 0, 1, 0, 1]\n",
      "[1, 0, 1, 0, 1, 0, 1, 0]\n"
     ]
    }
   ],
   "source": [
    "matriz = []\n",
    "for i in range(8):\n",
    "    fila = []\n",
    "    for j in range(8):\n",
    "        fila.append((i + j) % 2)\n",
    "    matriz.append(fila)\n",
    "\n",
    "for fila in matriz:\n",
    "    print(fila)"
   ]
  }
 ],
 "metadata": {
  "kernelspec": {
   "display_name": "Python 3",
   "language": "python",
   "name": "python3"
  },
  "language_info": {
   "codemirror_mode": {
    "name": "ipython",
    "version": 3
   },
   "file_extension": ".py",
   "mimetype": "text/x-python",
   "name": "python",
   "nbconvert_exporter": "python",
   "pygments_lexer": "ipython3",
   "version": "3.12.3"
  }
 },
 "nbformat": 4,
 "nbformat_minor": 2
}
