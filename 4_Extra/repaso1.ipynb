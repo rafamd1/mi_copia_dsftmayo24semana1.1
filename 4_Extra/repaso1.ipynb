{
 "cells": [
  {
   "cell_type": "code",
   "execution_count": 1,
   "metadata": {},
   "outputs": [
    {
     "name": "stdout",
     "output_type": "stream",
     "text": [
      "{'saludo': 'hola', 'direccion': ['calle de arriba', 34, True], 'telefono': 12345}\n"
     ]
    }
   ],
   "source": [
    "mi_dic = {} # mi_dic = dict()\n",
    "\n",
    "mi_dic['saludo'] = \"hola\"\n",
    "mi_dic[\"direccion\"] = [\"calle de arriba\", 34, True]\n",
    "mi_dic['telefono'] = 12345\n",
    "\n",
    "print(mi_dic)\n"
   ]
  },
  {
   "cell_type": "code",
   "execution_count": null,
   "metadata": {},
   "outputs": [],
   "source": [
    "otro = {}\n",
    "\n",
    "mi_dic2 = {\n",
    "    \"saludo\" : \"hola\",\n",
    "    \"despedida\" : \"adiós\",\n",
    "    \"numero\" : 7,  \n",
    "    \"otro_dic\" : otro\n",
    "}"
   ]
  },
  {
   "cell_type": "code",
   "execution_count": 2,
   "metadata": {},
   "outputs": [
    {
     "data": {
      "text/plain": [
       "{'saludo': 'hola',\n",
       " 'direccion': ['calle de arriba', 34, True],\n",
       " 'telefono': 12345}"
      ]
     },
     "execution_count": 2,
     "metadata": {},
     "output_type": "execute_result"
    }
   ],
   "source": [
    "mi_dic"
   ]
  },
  {
   "cell_type": "code",
   "execution_count": 3,
   "metadata": {},
   "outputs": [],
   "source": [
    "mi_dic['notas'] = {\n",
    "    'mates': 10,\n",
    "    'lengua': 10\n",
    "}"
   ]
  },
  {
   "cell_type": "code",
   "execution_count": 4,
   "metadata": {},
   "outputs": [
    {
     "data": {
      "text/plain": [
       "{'saludo': 'hola',\n",
       " 'direccion': ['calle de arriba', 34, True],\n",
       " 'telefono': 12345,\n",
       " 'notas': {'mates': 10, 'lengua': 10}}"
      ]
     },
     "execution_count": 4,
     "metadata": {},
     "output_type": "execute_result"
    }
   ],
   "source": [
    "mi_dic"
   ]
  },
  {
   "cell_type": "code",
   "execution_count": 10,
   "metadata": {},
   "outputs": [
    {
     "name": "stdout",
     "output_type": "stream",
     "text": [
      "saludo\n",
      "el valor de la clave saludo es hola\n",
      "direccion\n",
      "el valor de la clave direccion es ['calle de arriba', 34, True]\n",
      "telefono\n",
      "el valor de la clave telefono es 12345\n",
      "notas\n",
      "el valor de la clave notas es {'mates': 10, 'lengua': 10}\n"
     ]
    }
   ],
   "source": [
    "for clave in mi_dic:\n",
    "    print(clave)\n",
    "    print(\"el valor de la clave\", clave, \"es\", mi_dic[clave])"
   ]
  },
  {
   "cell_type": "code",
   "execution_count": 17,
   "metadata": {},
   "outputs": [
    {
     "data": {
      "text/plain": [
       "'No está silla'"
      ]
     },
     "execution_count": 17,
     "metadata": {},
     "output_type": "execute_result"
    }
   ],
   "source": [
    "mi_dic.get('silla', \"No está silla\")"
   ]
  },
  {
   "cell_type": "code",
   "execution_count": 22,
   "metadata": {},
   "outputs": [
    {
     "ename": "ZeroDivisionError",
     "evalue": "division by zero",
     "output_type": "error",
     "traceback": [
      "\u001b[1;31m---------------------------------------------------------------------------\u001b[0m",
      "\u001b[1;31mZeroDivisionError\u001b[0m                         Traceback (most recent call last)",
      "Cell \u001b[1;32mIn[22], line 1\u001b[0m\n\u001b[1;32m----> 1\u001b[0m \u001b[38;5;241;43m3\u001b[39;49m\u001b[38;5;241;43m/\u001b[39;49m\u001b[38;5;241;43m0\u001b[39;49m\n",
      "\u001b[1;31mZeroDivisionError\u001b[0m: division by zero"
     ]
    }
   ],
   "source": [
    "3/0"
   ]
  },
  {
   "cell_type": "code",
   "execution_count": 25,
   "metadata": {},
   "outputs": [
    {
     "name": "stdout",
     "output_type": "stream",
     "text": [
      "no se divide entre cero\n"
     ]
    }
   ],
   "source": [
    "try:\n",
    "   \n",
    "    mi_dic['silla']\n",
    "    l = [3,4,5]\n",
    "    l[8]\n",
    "    3/0\n",
    "    \n",
    "except (KeyError, IndexError):\n",
    "    print(\"no hay silla o te has salido de los índices\")\n",
    "except ZeroDivisionError:\n",
    "    print(\"no se divide entre cero\")\n",
    "except:\n",
    "    print(\"fallo\")"
   ]
  },
  {
   "cell_type": "code",
   "execution_count": 26,
   "metadata": {},
   "outputs": [
    {
     "ename": "IndexError",
     "evalue": "list index out of range",
     "output_type": "error",
     "traceback": [
      "\u001b[1;31m---------------------------------------------------------------------------\u001b[0m",
      "\u001b[1;31mIndexError\u001b[0m                                Traceback (most recent call last)",
      "Cell \u001b[1;32mIn[26], line 2\u001b[0m\n\u001b[0;32m      1\u001b[0m l \u001b[38;5;241m=\u001b[39m [\u001b[38;5;241m4\u001b[39m,\u001b[38;5;241m5\u001b[39m,\u001b[38;5;241m6\u001b[39m]\n\u001b[1;32m----> 2\u001b[0m \u001b[43ml\u001b[49m\u001b[43m[\u001b[49m\u001b[38;5;241;43m8\u001b[39;49m\u001b[43m]\u001b[49m\n",
      "\u001b[1;31mIndexError\u001b[0m: list index out of range"
     ]
    }
   ],
   "source": [
    "l = [4,5,6]\n",
    "l[8]"
   ]
  },
  {
   "cell_type": "code",
   "execution_count": 11,
   "metadata": {},
   "outputs": [
    {
     "name": "stdout",
     "output_type": "stream",
     "text": [
      "hola\n",
      "['calle de arriba', 34, True]\n",
      "12345\n",
      "{'mates': 10, 'lengua': 10}\n"
     ]
    }
   ],
   "source": [
    "for valores in mi_dic.values():\n",
    "    print(valores)"
   ]
  },
  {
   "cell_type": "code",
   "execution_count": 12,
   "metadata": {},
   "outputs": [
    {
     "data": {
      "text/plain": [
       "dict_items([('saludo', 'hola'), ('direccion', ['calle de arriba', 34, True]), ('telefono', 12345), ('notas', {'mates': 10, 'lengua': 10})])"
      ]
     },
     "execution_count": 12,
     "metadata": {},
     "output_type": "execute_result"
    }
   ],
   "source": [
    "mi_dic.items()"
   ]
  },
  {
   "cell_type": "code",
   "execution_count": 14,
   "metadata": {},
   "outputs": [
    {
     "name": "stdout",
     "output_type": "stream",
     "text": [
      "clave saludo valor hola\n",
      "clave direccion valor ['calle de arriba', 34, True]\n",
      "clave telefono valor 12345\n",
      "clave notas valor {'mates': 10, 'lengua': 10}\n"
     ]
    }
   ],
   "source": [
    "for mi_tupla in mi_dic.items():\n",
    "    print(\"clave\", mi_tupla[0], \"valor\", mi_tupla[1])"
   ]
  },
  {
   "cell_type": "code",
   "execution_count": 6,
   "metadata": {},
   "outputs": [
    {
     "data": {
      "text/plain": [
       "dict_keys(['saludo', 'direccion', 'telefono', 'notas'])"
      ]
     },
     "execution_count": 6,
     "metadata": {},
     "output_type": "execute_result"
    }
   ],
   "source": [
    "mi_dic.keys()"
   ]
  },
  {
   "cell_type": "code",
   "execution_count": 8,
   "metadata": {},
   "outputs": [
    {
     "data": {
      "text/plain": [
       "dict_values(['hola', ['calle de arriba', 34, True], 12345, {'mates': 10, 'lengua': 10}])"
      ]
     },
     "execution_count": 8,
     "metadata": {},
     "output_type": "execute_result"
    }
   ],
   "source": [
    "mi_dic.values()"
   ]
  },
  {
   "cell_type": "code",
   "execution_count": 34,
   "metadata": {},
   "outputs": [],
   "source": [
    "mi_set = {\"rosas\", \"rosas\", \"tulipanes\", \"girasoles\", True, (1,2,3)}"
   ]
  },
  {
   "cell_type": "code",
   "execution_count": 35,
   "metadata": {},
   "outputs": [
    {
     "data": {
      "text/plain": [
       "{1, 2, 3}"
      ]
     },
     "execution_count": 35,
     "metadata": {},
     "output_type": "execute_result"
    }
   ],
   "source": [
    "set([1,2,3,3,3,3,3])"
   ]
  },
  {
   "cell_type": "code",
   "execution_count": 36,
   "metadata": {},
   "outputs": [
    {
     "name": "stdout",
     "output_type": "stream",
     "text": [
      "[1, 2, 3, 3, 3, 3, 3, 3]\n"
     ]
    }
   ],
   "source": [
    "mi_lista = [1,2,3,3,3,3,3,3]\n",
    "otro_set = set(mi_lista)\n",
    "print(mi_lista)"
   ]
  },
  {
   "cell_type": "code",
   "execution_count": 39,
   "metadata": {},
   "outputs": [
    {
     "data": {
      "text/plain": [
       "{'numero', 'saludo'}"
      ]
     },
     "execution_count": 39,
     "metadata": {},
     "output_type": "execute_result"
    }
   ],
   "source": [
    "d = {'saludo': 'hola',\n",
    "     'numero': 5}\n",
    "set(d)"
   ]
  },
  {
   "cell_type": "code",
   "execution_count": 40,
   "metadata": {},
   "outputs": [
    {
     "data": {
      "text/plain": [
       "{'a', 'h', 'l', 'o'}"
      ]
     },
     "execution_count": 40,
     "metadata": {},
     "output_type": "execute_result"
    }
   ],
   "source": [
    "d2 = set(\"hola\")\n",
    "d2"
   ]
  },
  {
   "cell_type": "code",
   "execution_count": 41,
   "metadata": {},
   "outputs": [
    {
     "data": {
      "text/plain": [
       "4"
      ]
     },
     "execution_count": 41,
     "metadata": {},
     "output_type": "execute_result"
    }
   ],
   "source": [
    "len(d2)"
   ]
  },
  {
   "cell_type": "code",
   "execution_count": 42,
   "metadata": {},
   "outputs": [
    {
     "data": {
      "text/plain": [
       "5"
      ]
     },
     "execution_count": 42,
     "metadata": {},
     "output_type": "execute_result"
    }
   ],
   "source": [
    "def suma(num1, num2):\n",
    "    return num1+num2\n",
    "\n",
    "otra_igual = suma\n",
    "otra_igual(2,3)\n",
    "\n"
   ]
  },
  {
   "cell_type": "code",
   "execution_count": 43,
   "metadata": {},
   "outputs": [
    {
     "data": {
      "text/plain": [
       "True"
      ]
     },
     "execution_count": 43,
     "metadata": {},
     "output_type": "execute_result"
    }
   ],
   "source": [
    "\"hola\" == \"hola\""
   ]
  },
  {
   "cell_type": "code",
   "execution_count": 46,
   "metadata": {},
   "outputs": [
    {
     "data": {
      "text/plain": [
       "False"
      ]
     },
     "execution_count": 46,
     "metadata": {},
     "output_type": "execute_result"
    }
   ],
   "source": [
    "[1,2,3] is [1,2,3]"
   ]
  },
  {
   "cell_type": "code",
   "execution_count": 47,
   "metadata": {},
   "outputs": [
    {
     "data": {
      "text/plain": [
       "True"
      ]
     },
     "execution_count": 47,
     "metadata": {},
     "output_type": "execute_result"
    }
   ],
   "source": [
    "[1,2,3] == [1,2,3]"
   ]
  },
  {
   "cell_type": "code",
   "execution_count": 51,
   "metadata": {},
   "outputs": [
    {
     "data": {
      "text/plain": [
       "False"
      ]
     },
     "execution_count": 51,
     "metadata": {},
     "output_type": "execute_result"
    }
   ],
   "source": [
    "n1 = 70000000000000000000000000000000000000000000000000000000\n",
    "n2 = 70000000000000000000000000000000000000000000000000000000\n",
    "n1 is n2"
   ]
  },
  {
   "cell_type": "code",
   "execution_count": 52,
   "metadata": {},
   "outputs": [
    {
     "name": "stdout",
     "output_type": "stream",
     "text": [
      "{'color': 'azul', 'version': 20.24, 'capacidad': '11 kg'}\n",
      "11 kg\n"
     ]
    }
   ],
   "source": [
    "def comprar_lavadora(**kwargs):\n",
    "    print(kwargs)\n",
    "    capacidad = kwargs.get(\"capacidad\", \"8 kg\")\n",
    "    return capacidad\n",
    "\n",
    "print(comprar_lavadora(color=\"azul\", version = 20.24, capacidad = \"11 kg\"))\n",
    "    \n",
    "    \n",
    "    "
   ]
  },
  {
   "cell_type": "code",
   "execution_count": 55,
   "metadata": {},
   "outputs": [
    {
     "name": "stdout",
     "output_type": "stream",
     "text": [
      "(2, 3, 4, 5, 6)\n",
      "{'color': 'rojo', 'version': 2.0}\n"
     ]
    }
   ],
   "source": [
    "def mega_mix(*args, **kwargs):\n",
    "    print(args)\n",
    "    print(kwargs)\n",
    "\n",
    "mega_mix(2,3,4,5,numero = 6, color = \"rojo\", version = 2.0)"
   ]
  },
  {
   "cell_type": "code",
   "execution_count": null,
   "metadata": {},
   "outputs": [],
   "source": [
    "# 0! = 1\n",
    "# 1! = 1 x 0! = 1\n",
    "# 2! = 2 * 1! = 2 x 1 x 0!\n",
    "# 3! = 3 x 2! = 3 x 2 x 1\n",
    "# 4! 4 x 3 x2 x1 "
   ]
  },
  {
   "cell_type": "code",
   "execution_count": 57,
   "metadata": {},
   "outputs": [
    {
     "data": {
      "text/plain": [
       "120"
      ]
     },
     "execution_count": 57,
     "metadata": {},
     "output_type": "execute_result"
    }
   ],
   "source": [
    "def calcula_fact(numero):\n",
    "    resultado = 1\n",
    "    \n",
    "    for n in range(numero):\n",
    "        resultado = resultado * (n+1)\n",
    "    return resultado\n",
    "\n",
    "calcula_fact(5)"
   ]
  },
  {
   "cell_type": "code",
   "execution_count": 59,
   "metadata": {},
   "outputs": [
    {
     "data": {
      "text/plain": [
       "120"
      ]
     },
     "execution_count": 59,
     "metadata": {},
     "output_type": "execute_result"
    }
   ],
   "source": [
    "def calcula_fact_recursivo(numero):\n",
    "    if numero == 0:\n",
    "        return 1\n",
    "    else:\n",
    "        return numero * calcula_fact_recursivo(numero-1)\n",
    "    \n",
    "    \n",
    "calcula_fact_recursivo(5)    "
   ]
  },
  {
   "cell_type": "markdown",
   "metadata": {},
   "source": [
    "Una empresa usa dos listas  para guardar la información de sus empleados. Una lista guarda el nombre del empleado y la otra guarda su salario. Escribe un programa que cree esas dos listas originalmente vacías y que a través de un menú pueda hacer lo siguiente:\n",
    "    \n",
    "Inserta 1 para añadir un nuevo empleado y su salario\n",
    "\n",
    "Inserta 2 para imprimir los nombres y salarios de todos los empleados\n",
    "\n",
    "Inserta 3 para mostrar el número de empleados\n",
    "\n",
    "Inserta 4 para imprimir los nombres de los empleados con sueldos superiores a 400000\n",
    "\n",
    "Inserta 5 para subir un 5% los sueldos por debajo de 10000\n",
    "\n",
    "Inserta 6 para mostrar el total de todos los salarios\n",
    "\n",
    "Inserta 7 para salir del programa"
   ]
  },
  {
   "cell_type": "code",
   "execution_count": 60,
   "metadata": {},
   "outputs": [
    {
     "name": "stdout",
     "output_type": "stream",
     "text": [
      "b\n"
     ]
    }
   ],
   "source": [
    "l1 = [7,8,9]\n",
    "l2 = [\"a\", \"b\", \"c\"]\n",
    "\n",
    "for indice in range(len(l1)):\n",
    "    if l1[indice] == 8:\n",
    "        print(l2[indice])\n",
    "        \n"
   ]
  },
  {
   "cell_type": "code",
   "execution_count": null,
   "metadata": {},
   "outputs": [],
   "source": [
    "# una lista para nombres y una lista para sueldos\n",
    "lista_nombres = []\n",
    "lista_salarios = []\n",
    "\n",
    "# insertamos nuevos nombre-salario\n",
    "def nuevo_empleado(nombre, salario):\n",
    "    lista_nombres.append(nombre)\n",
    "    lista_salarios.append(salario)\n",
    "\n",
    "# imprimimos todos los nombre-salario\n",
    "def imprime_empleados():\n",
    "    for posicion in range(len(lista_nombres)):\n",
    "        print(\"Nombre: \", lista_nombres[posicion], end = \" \")\n",
    "        print(\"Sueldo: \", lista_salarios[posicion], end = \"\\n\")\n",
    "\n",
    "# imprimir cantidad de empleados\n",
    "def imprime_cantidad_empleados():\n",
    "    print(\"Cantidad de empleados: \", len(lista_nombres))\n",
    "\n",
    "# imprimir empleados con salarios mayores de 40 000 dolares\n",
    "def sueldos_altos():\n",
    "\n",
    "    print(\"Sueldos mayores de 40000:\")\n",
    "\n",
    "    # recorro la lista de sueldos\n",
    "    for posicion in range(len(lista_nombres)):\n",
    "\n",
    "        # si ese sueldo es mayor de 40 000, cojo el nombre\n",
    "        if lista_salarios[posicion] > 40000:\n",
    "            print(lista_nombres[posicion])\n",
    "\n",
    "\n",
    "# dar un aumento de un 10% a los sueldos menores de 10 000\n",
    "def aumento():\n",
    "    # recorro la lista de sueldos\n",
    "    for posicion in range(len(lista_salarios)):\n",
    "        if lista_salarios[posicion] < 10000:\n",
    "            lista_salarios[posicion] = lista_salarios[posicion] * 1.1\n",
    "\n",
    "    print(\"¡Los sueldos bajos se han subido!\")\n",
    "\n",
    "\n",
    "\n",
    "\n",
    "# imprimir la suma total de todos los sueldos\n",
    "def masa_salarial():\n",
    "    total = sum(lista_salarios)\n",
    "    print(\"Suma de todos los sueldos: \", total)\n",
    "\n",
    "# menu\n",
    "def menu():\n",
    "\n",
    "    mensaje_inicial = \"\"\"\n",
    "\n",
    "¡Bienvenido!\n",
    "\n",
    "Inserta 1 para añadir un nuevo empleado y su salario\n",
    "Inserta 2 para imprimir los nombres y salarios de todos los empleados\n",
    "Inserta 3 para mostrar el número de empleados\n",
    "Inserta 4 para imprimir los nombres de los empleados con sueldos superiores a 400000\n",
    "Inserta 5 para subir un 5% los sueldos por debajo de 10000\n",
    "Inserta 6 para mostrar el total de todos los salarios            \n",
    "Inserta 7 para salir del programa\n",
    "\n",
    "    \"\"\"\n",
    "    \n",
    "    print(mensaje_inicial)\n",
    "\n",
    "    opcion = int(input(\"Inserta option: \"))\n",
    "    while opcion != 7:\n",
    "        if opcion == 1:\n",
    "            nombre = input(\"Nombre de empleado: \")\n",
    "            salario = int(input(\"Salario: \"))\n",
    "\n",
    "            nuevo_empleado(nombre, salario)\n",
    "\n",
    "        elif opcion == 2:\n",
    "            imprime_empleados()\n",
    "\n",
    "        elif opcion == 3:\n",
    "            imprime_cantidad_empleados()\n",
    "\n",
    "        elif opcion == 4:\n",
    "            sueldos_altos()\n",
    "\n",
    "        elif opcion == 5:\n",
    "            aumento()\n",
    "\n",
    "        elif opcion == 6:\n",
    "            masa_salarial()\n",
    "\n",
    "        print() # nueva linea\n",
    "        opcion = int(input(\"Inserta opcion: \"))\n",
    "\n",
    "    print(\"¡Gracias por usar el programa!\")\n",
    "    \n",
    "    # ejecutamos el programa\n",
    "menu()          "
   ]
  },
  {
   "cell_type": "code",
   "execution_count": 62,
   "metadata": {},
   "outputs": [
    {
     "ename": "ValueError",
     "evalue": "invalid literal for int() with base 10: '7.2'",
     "output_type": "error",
     "traceback": [
      "\u001b[1;31m---------------------------------------------------------------------------\u001b[0m",
      "\u001b[1;31mValueError\u001b[0m                                Traceback (most recent call last)",
      "Cell \u001b[1;32mIn[62], line 1\u001b[0m\n\u001b[1;32m----> 1\u001b[0m \u001b[38;5;28;43mint\u001b[39;49m\u001b[43m(\u001b[49m\u001b[38;5;124;43m\"\u001b[39;49m\u001b[38;5;124;43m7.2\u001b[39;49m\u001b[38;5;124;43m\"\u001b[39;49m\u001b[43m)\u001b[49m\n",
      "\u001b[1;31mValueError\u001b[0m: invalid literal for int() with base 10: '7.2'"
     ]
    }
   ],
   "source": [
    "int(\"7.2\") #  \"7.2\" --> 7.2 --> 7"
   ]
  },
  {
   "cell_type": "code",
   "execution_count": 64,
   "metadata": {},
   "outputs": [
    {
     "data": {
      "text/plain": [
       "7"
      ]
     },
     "execution_count": 64,
     "metadata": {},
     "output_type": "execute_result"
    }
   ],
   "source": [
    "int(float(\"7.2\"))"
   ]
  },
  {
   "cell_type": "code",
   "execution_count": 70,
   "metadata": {},
   "outputs": [
    {
     "data": {
      "text/plain": [
       "5"
      ]
     },
     "execution_count": 70,
     "metadata": {},
     "output_type": "execute_result"
    }
   ],
   "source": [
    "int(float(\"5.3\"))"
   ]
  },
  {
   "cell_type": "code",
   "execution_count": 66,
   "metadata": {},
   "outputs": [
    {
     "data": {
      "text/plain": [
       "7"
      ]
     },
     "execution_count": 66,
     "metadata": {},
     "output_type": "execute_result"
    }
   ],
   "source": [
    "int(7.9)"
   ]
  },
  {
   "cell_type": "code",
   "execution_count": 89,
   "metadata": {},
   "outputs": [
    {
     "name": "stdout",
     "output_type": "stream",
     "text": [
      "grande\n",
      "la muñeca Rosa tiene el cabello rubia\n",
      "la muñeca Rosa está comiendo macarrones\n"
     ]
    },
    {
     "data": {
      "text/plain": [
       "'Famosa'"
      ]
     },
     "execution_count": 89,
     "metadata": {},
     "output_type": "execute_result"
    }
   ],
   "source": [
    "class muneca:\n",
    "    marca = \"Famosa\"\n",
    "    \n",
    "    def __init__(self, cabello, tamano, accesorios, nombre, asusta= True):\n",
    "        self.cabello = cabello\n",
    "        self.accesorios = accesorios\n",
    "        self.nombre = nombre\n",
    "        self.asusta = asusta\n",
    "        self.mi_tamano = tamano\n",
    "        \n",
    "    def imprime_color_cabello(self):\n",
    "        print(\"la muñeca\", self.nombre, \"tiene el cabello\", self.cabello)\n",
    "        \n",
    "    def come_comida(self, comida):\n",
    "        print(\"la muñeca\", self.nombre, \"está comiendo\", comida)\n",
    "        \n",
    "muneca1 = muneca(accesorios=\"diadema\", cabello =\"rubia\", tamano=\"grande\", nombre= \"Rosa\")\n",
    "print(muneca1.mi_tamano)\n",
    "muneca1.__dict__\n",
    "\n",
    "muneca1.imprime_color_cabello()\n",
    "muneca1.come_comida(\"macarrones\")\n",
    "muneca.marca\n",
    "muneca1.marca"
   ]
  },
  {
   "cell_type": "code",
   "execution_count": 76,
   "metadata": {},
   "outputs": [
    {
     "data": {
      "text/plain": [
       "{'saludo': 'hola',\n",
       " 'direccion': ['calle de arriba', 34, True],\n",
       " 'telefono': 12345,\n",
       " 'notas': {'mates': 10, 'lengua': 10}}"
      ]
     },
     "execution_count": 76,
     "metadata": {},
     "output_type": "execute_result"
    }
   ],
   "source": [
    "mi_dic"
   ]
  },
  {
   "cell_type": "code",
   "execution_count": 79,
   "metadata": {},
   "outputs": [
    {
     "name": "stdout",
     "output_type": "stream",
     "text": [
      "{'saludo': 'hola', 'direccion': ['calle de arriba', 34, True], 'telefono': 12345, 'notas': {'mates': 10, 'lengua': 10}}\n"
     ]
    }
   ],
   "source": [
    "def imprime_dic(**kwargs):\n",
    "    print(kwargs)\n",
    "    \n",
    "imprime_dic(**mi_dic) "
   ]
  },
  {
   "cell_type": "code",
   "execution_count": 84,
   "metadata": {},
   "outputs": [
    {
     "data": {
      "text/plain": [
       "'madera'"
      ]
     },
     "execution_count": 84,
     "metadata": {},
     "output_type": "execute_result"
    }
   ],
   "source": [
    "def registro_de_sillas(**kwargs):\n",
    "    \n",
    "    return kwargs.get(\"material\", \"madera\")\n",
    "\n",
    "registro_de_sillas(peso = 10, brilla = False)"
   ]
  },
  {
   "cell_type": "code",
   "execution_count": 86,
   "metadata": {},
   "outputs": [
    {
     "data": {
      "text/plain": [
       "8"
      ]
     },
     "execution_count": 86,
     "metadata": {},
     "output_type": "execute_result"
    }
   ],
   "source": [
    "def busca_args(*args):\n",
    "    if len(args) > 2:\n",
    "        raise Exception(\"Esto no vale, lo siento!!\")\n",
    "    else:\n",
    "        return args[0]\n",
    "    \n",
    "busca_args(8,9)\n",
    "    "
   ]
  }
 ],
 "metadata": {
  "kernelspec": {
   "display_name": "Python 3",
   "language": "python",
   "name": "python3"
  },
  "language_info": {
   "codemirror_mode": {
    "name": "ipython",
    "version": 3
   },
   "file_extension": ".py",
   "mimetype": "text/x-python",
   "name": "python",
   "nbconvert_exporter": "python",
   "pygments_lexer": "ipython3",
   "version": "3.12.3"
  }
 },
 "nbformat": 4,
 "nbformat_minor": 2
}
