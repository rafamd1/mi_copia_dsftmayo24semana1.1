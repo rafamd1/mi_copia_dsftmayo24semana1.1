{
 "cells": [
  {
   "cell_type": "markdown",
   "metadata": {},
   "source": [
    "# Web Scraping: Selenium"
   ]
  },
  {
   "cell_type": "markdown",
   "metadata": {},
   "source": [
    "A menudo, los datos están disponibles públicamente para nosotros, pero no en una forma que sea fácilmente utilizable. Ahí es donde entra en juego el web scraping, podemos usar web scraping para obtener nuestros datos deseados en un formato conveniente que luego se puede usar. A continuación, mostraré cómo se puede extraer información de interés de un sitio web usando el paquete Selenium en Python. Selenium nos permite manejar una ventana del navegador e interactuar con el sitio web mediante programación. \n",
    "\n",
    "Selenium también tiene varios métodos que facilitan la extracción de datos.\n",
    "En este Jupyter Notebook vamos a usar Python 3 en Windows.\n",
    "\n",
    "En primer lugar, tendremos que descargar un controlador.\n",
    "\n",
    "Usaremos ChromeDriver para Google Chrome. Para obtener una lista completa de controladores y plataformas compatibles, consulte [Selenium](https://www.selenium.dev/downloads/). Si desea utilizar Google Chrome, diríjase a [chrome](https://chromedriver.chromium.org/) y descargue el controlador que corresponde a su versión actual de Google Chrome.\n",
    "\n",
    "Como saber cual es la version de chrome que utilizo simple utilizamos pegamos el siguiente enlace en la barra de chrome chrome://settings/help\n",
    "\n",
    "Antes de comenzar se preguntaran si ya se BeautifulSoup cual es la diferencia con Selenium.\n",
    "\n",
    "A diferencia BeautifulSoup, Selenium no trabaja con el texto fuente en HTML de la web en cuestión, sino que carga la página en un navegador sin interfaz de usuario. El navegador interpreta entonces el código fuente de la página y crea, a partir de él, un Document Object Model (modelo de objetos de documento o DOM). Esta interfaz estandarizada permite poner a prueba las interacciones de los usuarios. De esta forma se consigue, por ejemplo, simular clics y rellenar formularios automáticamente. Los cambios en la web que resultan de dichas acciones se reflejan en el DOM. La estructura del proceso de web scraping con Selenium es la siguiente:\n",
    "\n",
    "URL → Solicitud HTTP → HTML → Selenium → DOM\n",
    "\n"
   ]
  },
  {
   "cell_type": "markdown",
   "metadata": {},
   "source": [
    "## Comencemos importando las bibliotecas que usaremos:"
   ]
  },
  {
   "cell_type": "code",
   "execution_count": 6,
   "metadata": {},
   "outputs": [
    {
     "name": "stdout",
     "output_type": "stream",
     "text": [
      "Collecting selenium\n",
      "  Downloading selenium-4.21.0-py3-none-any.whl.metadata (6.9 kB)\n",
      "Requirement already satisfied: urllib3<3,>=1.26 in c:\\users\\rafam\\appdata\\local\\programs\\python\\python312\\lib\\site-packages (from urllib3[socks]<3,>=1.26->selenium) (2.2.1)\n",
      "Collecting trio~=0.17 (from selenium)\n",
      "  Downloading trio-0.25.1-py3-none-any.whl.metadata (8.7 kB)\n",
      "Collecting trio-websocket~=0.9 (from selenium)\n",
      "  Downloading trio_websocket-0.11.1-py3-none-any.whl.metadata (4.7 kB)\n",
      "Requirement already satisfied: certifi>=2021.10.8 in c:\\users\\rafam\\appdata\\local\\programs\\python\\python312\\lib\\site-packages (from selenium) (2024.2.2)\n",
      "Collecting typing_extensions>=4.9.0 (from selenium)\n",
      "  Downloading typing_extensions-4.12.0-py3-none-any.whl.metadata (3.0 kB)\n",
      "Requirement already satisfied: attrs>=23.2.0 in c:\\users\\rafam\\appdata\\local\\programs\\python\\python312\\lib\\site-packages (from trio~=0.17->selenium) (23.2.0)\n",
      "Collecting sortedcontainers (from trio~=0.17->selenium)\n",
      "  Downloading sortedcontainers-2.4.0-py2.py3-none-any.whl.metadata (10 kB)\n",
      "Requirement already satisfied: idna in c:\\users\\rafam\\appdata\\local\\programs\\python\\python312\\lib\\site-packages (from trio~=0.17->selenium) (3.7)\n",
      "Collecting outcome (from trio~=0.17->selenium)\n",
      "  Downloading outcome-1.3.0.post0-py2.py3-none-any.whl.metadata (2.6 kB)\n",
      "Requirement already satisfied: sniffio>=1.3.0 in c:\\users\\rafam\\appdata\\local\\programs\\python\\python312\\lib\\site-packages (from trio~=0.17->selenium) (1.3.1)\n",
      "Requirement already satisfied: cffi>=1.14 in c:\\users\\rafam\\appdata\\local\\programs\\python\\python312\\lib\\site-packages (from trio~=0.17->selenium) (1.16.0)\n",
      "Collecting wsproto>=0.14 (from trio-websocket~=0.9->selenium)\n",
      "  Downloading wsproto-1.2.0-py3-none-any.whl.metadata (5.6 kB)\n",
      "Collecting pysocks!=1.5.7,<2.0,>=1.5.6 (from urllib3[socks]<3,>=1.26->selenium)\n",
      "  Downloading PySocks-1.7.1-py3-none-any.whl.metadata (13 kB)\n",
      "Requirement already satisfied: pycparser in c:\\users\\rafam\\appdata\\local\\programs\\python\\python312\\lib\\site-packages (from cffi>=1.14->trio~=0.17->selenium) (2.22)\n",
      "Requirement already satisfied: h11<1,>=0.9.0 in c:\\users\\rafam\\appdata\\local\\programs\\python\\python312\\lib\\site-packages (from wsproto>=0.14->trio-websocket~=0.9->selenium) (0.14.0)\n",
      "Downloading selenium-4.21.0-py3-none-any.whl (9.5 MB)\n",
      "   ---------------------------------------- 0.0/9.5 MB ? eta -:--:--\n",
      "   ---------------------------------------- 0.0/9.5 MB 991.0 kB/s eta 0:00:10\n",
      "    --------------------------------------- 0.2/9.5 MB 2.1 MB/s eta 0:00:05\n",
      "   -- ------------------------------------- 0.5/9.5 MB 3.3 MB/s eta 0:00:03\n",
      "   --- ------------------------------------ 0.8/9.5 MB 4.1 MB/s eta 0:00:03\n",
      "   ----- ---------------------------------- 1.3/9.5 MB 5.2 MB/s eta 0:00:02\n",
      "   ------- -------------------------------- 1.7/9.5 MB 6.0 MB/s eta 0:00:02\n",
      "   --------- ------------------------------ 2.2/9.5 MB 6.6 MB/s eta 0:00:02\n",
      "   ---------- ----------------------------- 2.5/9.5 MB 7.1 MB/s eta 0:00:01\n",
      "   ------------- -------------------------- 3.2/9.5 MB 7.6 MB/s eta 0:00:01\n",
      "   --------------- ------------------------ 3.8/9.5 MB 8.0 MB/s eta 0:00:01\n",
      "   ----------------- ---------------------- 4.1/9.5 MB 8.0 MB/s eta 0:00:01\n",
      "   ------------------- -------------------- 4.6/9.5 MB 8.4 MB/s eta 0:00:01\n",
      "   --------------------- ------------------ 5.0/9.5 MB 8.3 MB/s eta 0:00:01\n",
      "   ---------------------- ----------------- 5.4/9.5 MB 8.5 MB/s eta 0:00:01\n",
      "   ------------------------- -------------- 6.0/9.5 MB 8.7 MB/s eta 0:00:01\n",
      "   --------------------------- ------------ 6.5/9.5 MB 8.8 MB/s eta 0:00:01\n",
      "   ----------------------------- ---------- 6.9/9.5 MB 8.9 MB/s eta 0:00:01\n",
      "   ------------------------------- -------- 7.5/9.5 MB 8.9 MB/s eta 0:00:01\n",
      "   --------------------------------- ------ 8.0/9.5 MB 9.0 MB/s eta 0:00:01\n",
      "   ---------------------------------- ----- 8.3/9.5 MB 8.9 MB/s eta 0:00:01\n",
      "   ------------------------------------ --- 8.6/9.5 MB 8.8 MB/s eta 0:00:01\n",
      "   ------------------------------------- -- 8.9/9.5 MB 8.8 MB/s eta 0:00:01\n",
      "   ---------------------------------------  9.3/9.5 MB 8.9 MB/s eta 0:00:01\n",
      "   ---------------------------------------- 9.5/9.5 MB 8.5 MB/s eta 0:00:00\n",
      "Downloading trio-0.25.1-py3-none-any.whl (467 kB)\n",
      "   ---------------------------------------- 0.0/467.7 kB ? eta -:--:--\n",
      "   -------------------------- ------------- 307.2/467.7 kB 9.3 MB/s eta 0:00:01\n",
      "   ---------------------------------------- 467.7/467.7 kB 7.3 MB/s eta 0:00:00\n",
      "Downloading trio_websocket-0.11.1-py3-none-any.whl (17 kB)\n",
      "Downloading typing_extensions-4.12.0-py3-none-any.whl (37 kB)\n",
      "Downloading PySocks-1.7.1-py3-none-any.whl (16 kB)\n",
      "Downloading wsproto-1.2.0-py3-none-any.whl (24 kB)\n",
      "Downloading outcome-1.3.0.post0-py2.py3-none-any.whl (10 kB)\n",
      "Downloading sortedcontainers-2.4.0-py2.py3-none-any.whl (29 kB)\n",
      "Installing collected packages: sortedcontainers, wsproto, typing_extensions, pysocks, outcome, trio, trio-websocket, selenium\n",
      "Successfully installed outcome-1.3.0.post0 pysocks-1.7.1 selenium-4.21.0 sortedcontainers-2.4.0 trio-0.25.1 trio-websocket-0.11.1 typing_extensions-4.12.0 wsproto-1.2.0\n"
     ]
    }
   ],
   "source": [
    "! pip install selenium"
   ]
  },
  {
   "cell_type": "code",
   "execution_count": 21,
   "metadata": {
    "ExecuteTime": {
     "end_time": "2021-02-26T12:16:59.303652Z",
     "start_time": "2021-02-26T12:16:59.300657Z"
    }
   },
   "outputs": [],
   "source": [
    "from selenium import webdriver\n",
    "from selenium.webdriver.chrome.service import Service\n",
    "from selenium.webdriver.common.by import By\n",
    "import time"
   ]
  },
  {
   "cell_type": "markdown",
   "metadata": {},
   "source": [
    "El objeto driver es con el que trabajaremos a partir de ahora"
   ]
  },
  {
   "cell_type": "code",
   "execution_count": 22,
   "metadata": {},
   "outputs": [],
   "source": [
    "service = Service(executable_path='./chromedriver.exe')\n",
    "options = webdriver.ChromeOptions()"
   ]
  },
  {
   "cell_type": "code",
   "execution_count": 24,
   "metadata": {},
   "outputs": [],
   "source": [
    "driver = webdriver.Chrome(service=service, options=options)\n",
    "# ...\n",
    "# driver.quit()"
   ]
  },
  {
   "cell_type": "code",
   "execution_count": 25,
   "metadata": {},
   "outputs": [],
   "source": [
    "# Creamos el driver con el que nos vamos a manejar en la sesión de scrapeo:\n",
    "\n",
    "driver.get(\"http://www.google.es\")\n",
    "\n",
    "# time.sleep(5)\n",
    "\n",
    "# driver.quit()- para cerrar la ventana con codigo"
   ]
  },
  {
   "cell_type": "markdown",
   "metadata": {},
   "source": [
    "Ahora si queremos hacer click en el boton de \"Rechazar\". Selenium proporciona varios métodos para localizar elementos en la página web. Usaremos el método find_element para crear un objeto de botón, con el que luego podremos interactuar:"
   ]
  },
  {
   "cell_type": "code",
   "execution_count": 29,
   "metadata": {},
   "outputs": [],
   "source": [
    "loadMore = driver.find_element(By.XPATH, '/html/body/div[2]/div[2]/div[3]/span/div/div/div/div[3]/div[1]/button[1]/div')"
   ]
  },
  {
   "cell_type": "code",
   "execution_count": 30,
   "metadata": {},
   "outputs": [],
   "source": [
    "loadMore.click()"
   ]
  },
  {
   "cell_type": "code",
   "execution_count": 31,
   "metadata": {},
   "outputs": [],
   "source": [
    "search_box = driver.find_element(By.XPATH, \"/html/body/div[1]/div[3]/form/div[1]/div[1]/div[1]/div/div[2]/textarea\")\n",
    "search_box.send_keys(\"thebridgeschool\")\n",
    "search_box.submit()"
   ]
  },
  {
   "cell_type": "code",
   "execution_count": 33,
   "metadata": {},
   "outputs": [],
   "source": [
    "driver.quit()"
   ]
  },
  {
   "cell_type": "markdown",
   "metadata": {},
   "source": [
    "# Filmaffinity"
   ]
  },
  {
   "cell_type": "code",
   "execution_count": 35,
   "metadata": {},
   "outputs": [],
   "source": [
    "service = Service(executable_path='./chromedriver.exe')\n",
    "options = webdriver.ChromeOptions()\n",
    "driver = webdriver.Chrome(service=service, options=options)\n",
    "driver.get(\"http://www.google.es\")"
   ]
  },
  {
   "cell_type": "code",
   "execution_count": 36,
   "metadata": {},
   "outputs": [],
   "source": [
    "loadMore = driver.find_element(By.XPATH, '/html/body/div[2]/div[2]/div[3]/span/div/div/div/div[3]/div[1]/button[1]/div')"
   ]
  },
  {
   "cell_type": "code",
   "execution_count": 37,
   "metadata": {},
   "outputs": [],
   "source": [
    "loadMore.click()"
   ]
  },
  {
   "cell_type": "code",
   "execution_count": 4,
   "metadata": {},
   "outputs": [],
   "source": [
    "# indicamos la URL de la página web a la que queremos acceder:\n",
    "url = 'https://www.filmaffinity.com/es/main.html'\n",
    "# el objeto driver nos va a permitir alterar el estado del la página\n",
    "driver.get(url)"
   ]
  },
  {
   "cell_type": "markdown",
   "metadata": {},
   "source": [
    "La página de Filmaffinity se ha abierto"
   ]
  },
  {
   "cell_type": "markdown",
   "metadata": {},
   "source": [
    "Pero...."
   ]
  },
  {
   "cell_type": "markdown",
   "metadata": {},
   "source": [
    "Nos hemos encontrado con un pop-up que nos pide aceptar cookies"
   ]
  },
  {
   "cell_type": "markdown",
   "metadata": {},
   "source": [
    "1. Buscamos el botón\n",
    "2. Hacemos click en el botón"
   ]
  },
  {
   "cell_type": "markdown",
   "metadata": {},
   "source": [
    "Vamos a quitar el boton para seguir"
   ]
  },
  {
   "cell_type": "code",
   "execution_count": 5,
   "metadata": {
    "ExecuteTime": {
     "end_time": "2021-02-26T10:22:48.546287Z",
     "start_time": "2021-02-26T10:22:48.489040Z"
    }
   },
   "outputs": [],
   "source": [
    "elements_by_tag = driver.find_elements(By.TAG_NAME,'button')\n",
    "elements_by_class_name = driver.find_elements(By.CLASS_NAME, 'css-2tkghh')\n",
    "element_by_xpath = driver.find_element(By.XPATH, '/html/body/div[1]/div/div/div/div[2]/div/button[2]')"
   ]
  },
  {
   "cell_type": "markdown",
   "metadata": {},
   "source": [
    "Una vez tenemos los elementos podemos hacer varias cosas con ellos"
   ]
  },
  {
   "cell_type": "markdown",
   "metadata": {},
   "source": [
    "Podemos extraer todos los atributos que tenga"
   ]
  },
  {
   "cell_type": "code",
   "execution_count": 19,
   "metadata": {
    "ExecuteTime": {
     "end_time": "2021-02-26T10:22:51.542538Z",
     "start_time": "2021-02-26T10:22:51.508077Z"
    }
   },
   "outputs": [
    {
     "data": {
      "text/plain": [
       "['__abstractmethods__',\n",
       " '__class__',\n",
       " '__delattr__',\n",
       " '__dict__',\n",
       " '__dir__',\n",
       " '__doc__',\n",
       " '__eq__',\n",
       " '__format__',\n",
       " '__ge__',\n",
       " '__getattribute__',\n",
       " '__getstate__',\n",
       " '__gt__',\n",
       " '__hash__',\n",
       " '__init__',\n",
       " '__init_subclass__',\n",
       " '__le__',\n",
       " '__lt__',\n",
       " '__module__',\n",
       " '__ne__',\n",
       " '__new__',\n",
       " '__reduce__',\n",
       " '__reduce_ex__',\n",
       " '__repr__',\n",
       " '__setattr__',\n",
       " '__sizeof__',\n",
       " '__str__',\n",
       " '__subclasshook__',\n",
       " '__weakref__',\n",
       " '_abc_impl',\n",
       " '_execute',\n",
       " '_id',\n",
       " '_parent',\n",
       " '_upload',\n",
       " 'accessible_name',\n",
       " 'aria_role',\n",
       " 'clear',\n",
       " 'click',\n",
       " 'find_element',\n",
       " 'find_elements',\n",
       " 'get_attribute',\n",
       " 'get_dom_attribute',\n",
       " 'get_property',\n",
       " 'id',\n",
       " 'is_displayed',\n",
       " 'is_enabled',\n",
       " 'is_selected',\n",
       " 'location',\n",
       " 'location_once_scrolled_into_view',\n",
       " 'parent',\n",
       " 'rect',\n",
       " 'screenshot',\n",
       " 'screenshot_as_base64',\n",
       " 'screenshot_as_png',\n",
       " 'send_keys',\n",
       " 'shadow_root',\n",
       " 'size',\n",
       " 'submit',\n",
       " 'tag_name',\n",
       " 'text',\n",
       " 'value_of_css_property']"
      ]
     },
     "execution_count": 19,
     "metadata": {},
     "output_type": "execute_result"
    }
   ],
   "source": [
    "dir(element_by_xpath)\n",
    "# obtenemos todos sus métodos y atributos:"
   ]
  },
  {
   "cell_type": "markdown",
   "metadata": {},
   "source": [
    "Podemos evaluar que tipo de elemento es (tag)"
   ]
  },
  {
   "cell_type": "code",
   "execution_count": 20,
   "metadata": {
    "ExecuteTime": {
     "end_time": "2021-02-26T10:22:53.325430Z",
     "start_time": "2021-02-26T10:22:53.306520Z"
    }
   },
   "outputs": [
    {
     "data": {
      "text/plain": [
       "'button'"
      ]
     },
     "execution_count": 20,
     "metadata": {},
     "output_type": "execute_result"
    }
   ],
   "source": [
    "element_by_xpath.tag_name"
   ]
  },
  {
   "cell_type": "markdown",
   "metadata": {},
   "source": [
    "Podemos sacar el valor que tiene (el texto)"
   ]
  },
  {
   "cell_type": "code",
   "execution_count": 21,
   "metadata": {
    "ExecuteTime": {
     "end_time": "2021-02-26T10:22:54.583190Z",
     "start_time": "2021-02-26T10:22:54.553596Z"
    }
   },
   "outputs": [
    {
     "data": {
      "text/plain": [
       "'NO ACEPTO'"
      ]
     },
     "execution_count": 21,
     "metadata": {},
     "output_type": "execute_result"
    }
   ],
   "source": [
    "element_by_xpath.text"
   ]
  },
  {
   "cell_type": "code",
   "execution_count": 22,
   "metadata": {},
   "outputs": [
    {
     "name": "stdout",
     "output_type": "stream",
     "text": [
      "socios\n",
      "MÁS OPCIONES\n",
      "NO ACEPTO\n",
      "ACEPTO\n"
     ]
    }
   ],
   "source": [
    "for i in range(0,len(elements_by_tag)):\n",
    "    print(elements_by_tag[i].text)"
   ]
  },
  {
   "cell_type": "markdown",
   "metadata": {},
   "source": [
    "Incluso podemos guardar una imagen del elemento"
   ]
  },
  {
   "cell_type": "code",
   "execution_count": 40,
   "metadata": {},
   "outputs": [
    {
     "data": {
      "text/plain": [
       "selenium.webdriver.remote.webelement.WebElement"
      ]
     },
     "execution_count": 40,
     "metadata": {},
     "output_type": "execute_result"
    }
   ],
   "source": [
    "type(element_by_xpath)\n",
    "# Vemos que es tipo 'WebElement' y en la documentación podremos encontrar sus métodos"
   ]
  },
  {
   "cell_type": "code",
   "execution_count": 23,
   "metadata": {
    "ExecuteTime": {
     "end_time": "2021-02-26T10:24:41.830050Z",
     "start_time": "2021-02-26T10:24:41.510086Z"
    }
   },
   "outputs": [
    {
     "data": {
      "text/plain": [
       "True"
      ]
     },
     "execution_count": 23,
     "metadata": {},
     "output_type": "execute_result"
    }
   ],
   "source": [
    "# guardamos como 'mi_imagen.png' la imagen asociada al xpath\n",
    "element_by_xpath.screenshot('mi_imagen.png')"
   ]
  },
  {
   "cell_type": "markdown",
   "metadata": {
    "ExecuteTime": {
     "end_time": "2021-02-25T09:56:21.322475Z",
     "start_time": "2021-02-25T09:56:21.318715Z"
    }
   },
   "source": [
    "Evaluamos que elementos hemos encontrado por el tag:"
   ]
  },
  {
   "cell_type": "code",
   "execution_count": 24,
   "metadata": {},
   "outputs": [
    {
     "name": "stdout",
     "output_type": "stream",
     "text": [
      "Elemento: 0\n",
      "Texto del elemento 0 es socios\n",
      "El tag del elemento 0 es button\n",
      "Elemento: 1\n",
      "Texto del elemento 1 es MÁS OPCIONES\n",
      "El tag del elemento 1 es button\n",
      "Elemento: 2\n",
      "Texto del elemento 2 es NO ACEPTO\n",
      "El tag del elemento 2 es button\n",
      "Elemento: 3\n",
      "Texto del elemento 3 es ACEPTO\n",
      "El tag del elemento 3 es button\n"
     ]
    }
   ],
   "source": [
    "for index, element in enumerate(elements_by_tag):\n",
    "    print('Elemento:', index)\n",
    "    print('Texto del elemento',index, 'es', element.text)\n",
    "    print('El tag del elemento',index, 'es', element.tag_name)\n",
    "    element.screenshot('mi_imagen'+str(index)+'.png')"
   ]
  },
  {
   "cell_type": "markdown",
   "metadata": {},
   "source": [
    "Basta de tonterias seguimos"
   ]
  },
  {
   "cell_type": "markdown",
   "metadata": {},
   "source": [
    "Instanciamos el elemento del tag [2] en la variable boton aceptar"
   ]
  },
  {
   "cell_type": "code",
   "execution_count": 6,
   "metadata": {
    "ExecuteTime": {
     "end_time": "2021-02-26T10:24:47.302978Z",
     "start_time": "2021-02-26T10:24:47.291261Z"
    }
   },
   "outputs": [],
   "source": [
    "boton_aceptar = elements_by_tag[2]"
   ]
  },
  {
   "cell_type": "markdown",
   "metadata": {},
   "source": [
    "Si el elemento es interactivo podremos hacer más cosas además de las anteriores. Por ejemplo: hacer click"
   ]
  },
  {
   "cell_type": "code",
   "execution_count": 7,
   "metadata": {
    "ExecuteTime": {
     "end_time": "2021-02-26T10:24:48.611716Z",
     "start_time": "2021-02-26T10:24:48.390430Z"
    }
   },
   "outputs": [],
   "source": [
    "boton_aceptar.click()"
   ]
  },
  {
   "cell_type": "markdown",
   "metadata": {},
   "source": [
    "Buscamos una película por título"
   ]
  },
  {
   "cell_type": "code",
   "execution_count": 27,
   "metadata": {},
   "outputs": [],
   "source": [
    "from selenium.webdriver.common.keys import Keys"
   ]
  },
  {
   "cell_type": "code",
   "execution_count": 37,
   "metadata": {
    "ExecuteTime": {
     "end_time": "2021-02-26T10:28:14.592155Z",
     "start_time": "2021-02-26T10:28:13.509998Z"
    }
   },
   "outputs": [],
   "source": [
    "buscador = driver.find_element(By.XPATH, '/html/body/header/div[1]/div/div[2]/div/form/div/input')"
   ]
  },
  {
   "cell_type": "code",
   "execution_count": 40,
   "metadata": {},
   "outputs": [],
   "source": [
    "buscador.send_keys('Oppenheimmer')\n",
    "# buscador.clear()"
   ]
  },
  {
   "cell_type": "code",
   "execution_count": 41,
   "metadata": {},
   "outputs": [],
   "source": [
    "# una vez escrita la búsqueda deberíamos poder activarla:\n",
    "# buscador.send_keys(Keys.ENTER)\n",
    "buscador.submit()"
   ]
  },
  {
   "cell_type": "code",
   "execution_count": 47,
   "metadata": {},
   "outputs": [],
   "source": [
    "# volvemos a la página anterior\n",
    "driver.back()"
   ]
  },
  {
   "cell_type": "code",
   "execution_count": 48,
   "metadata": {},
   "outputs": [],
   "source": [
    "buscador.clear()"
   ]
  },
  {
   "cell_type": "code",
   "execution_count": 44,
   "metadata": {},
   "outputs": [],
   "source": [
    "buscador = driver.find_element(By.XPATH, '/html/body/header/div[1]/div/div[2]/div/form/div/input')\n",
    "buscador.send_keys('Oppenheimer')"
   ]
  },
  {
   "cell_type": "code",
   "execution_count": 45,
   "metadata": {},
   "outputs": [],
   "source": [
    "buscador.send_keys(Keys.ENTER)"
   ]
  },
  {
   "cell_type": "markdown",
   "metadata": {
    "ExecuteTime": {
     "end_time": "2021-02-25T10:09:19.308961Z",
     "start_time": "2021-02-25T10:09:19.299983Z"
    }
   },
   "source": [
    "### Vamos a buscar todas las películas que se estrenan el próximo viernes"
   ]
  },
  {
   "cell_type": "markdown",
   "metadata": {},
   "source": [
    "1. Cogemos los containers que hay en la zona lateral"
   ]
  },
  {
   "cell_type": "code",
   "execution_count": 8,
   "metadata": {
    "ExecuteTime": {
     "end_time": "2021-02-25T10:40:53.961145Z",
     "start_time": "2021-02-25T10:40:53.793388Z"
    }
   },
   "outputs": [],
   "source": [
    "menu_lateral = driver.find_element(By.ID, 'lsmenu') "
   ]
  },
  {
   "cell_type": "code",
   "execution_count": 9,
   "metadata": {},
   "outputs": [],
   "source": [
    "mis_secciones = menu_lateral.find_elements(By.TAG_NAME, 'a')"
   ]
  },
  {
   "cell_type": "markdown",
   "metadata": {},
   "source": [
    "2. Vemos con cuál nos tenemos que quedar"
   ]
  },
  {
   "cell_type": "code",
   "execution_count": 11,
   "metadata": {},
   "outputs": [
    {
     "data": {
      "text/plain": [
       "[<selenium.webdriver.remote.webelement.WebElement (session=\"c6f0a4068cc687d84fe9603d86ae04b5\", element=\"f.35C072E19F87CE3CD18CE0054D70B5B7.d.9CC02860C3E6E58D39A6F1F6D402D14D.e.48\")>,\n",
       " <selenium.webdriver.remote.webelement.WebElement (session=\"c6f0a4068cc687d84fe9603d86ae04b5\", element=\"f.35C072E19F87CE3CD18CE0054D70B5B7.d.9CC02860C3E6E58D39A6F1F6D402D14D.e.49\")>,\n",
       " <selenium.webdriver.remote.webelement.WebElement (session=\"c6f0a4068cc687d84fe9603d86ae04b5\", element=\"f.35C072E19F87CE3CD18CE0054D70B5B7.d.9CC02860C3E6E58D39A6F1F6D402D14D.e.50\")>,\n",
       " <selenium.webdriver.remote.webelement.WebElement (session=\"c6f0a4068cc687d84fe9603d86ae04b5\", element=\"f.35C072E19F87CE3CD18CE0054D70B5B7.d.9CC02860C3E6E58D39A6F1F6D402D14D.e.51\")>,\n",
       " <selenium.webdriver.remote.webelement.WebElement (session=\"c6f0a4068cc687d84fe9603d86ae04b5\", element=\"f.35C072E19F87CE3CD18CE0054D70B5B7.d.9CC02860C3E6E58D39A6F1F6D402D14D.e.52\")>,\n",
       " <selenium.webdriver.remote.webelement.WebElement (session=\"c6f0a4068cc687d84fe9603d86ae04b5\", element=\"f.35C072E19F87CE3CD18CE0054D70B5B7.d.9CC02860C3E6E58D39A6F1F6D402D14D.e.53\")>,\n",
       " <selenium.webdriver.remote.webelement.WebElement (session=\"c6f0a4068cc687d84fe9603d86ae04b5\", element=\"f.35C072E19F87CE3CD18CE0054D70B5B7.d.9CC02860C3E6E58D39A6F1F6D402D14D.e.54\")>,\n",
       " <selenium.webdriver.remote.webelement.WebElement (session=\"c6f0a4068cc687d84fe9603d86ae04b5\", element=\"f.35C072E19F87CE3CD18CE0054D70B5B7.d.9CC02860C3E6E58D39A6F1F6D402D14D.e.55\")>,\n",
       " <selenium.webdriver.remote.webelement.WebElement (session=\"c6f0a4068cc687d84fe9603d86ae04b5\", element=\"f.35C072E19F87CE3CD18CE0054D70B5B7.d.9CC02860C3E6E58D39A6F1F6D402D14D.e.56\")>,\n",
       " <selenium.webdriver.remote.webelement.WebElement (session=\"c6f0a4068cc687d84fe9603d86ae04b5\", element=\"f.35C072E19F87CE3CD18CE0054D70B5B7.d.9CC02860C3E6E58D39A6F1F6D402D14D.e.57\")>,\n",
       " <selenium.webdriver.remote.webelement.WebElement (session=\"c6f0a4068cc687d84fe9603d86ae04b5\", element=\"f.35C072E19F87CE3CD18CE0054D70B5B7.d.9CC02860C3E6E58D39A6F1F6D402D14D.e.58\")>,\n",
       " <selenium.webdriver.remote.webelement.WebElement (session=\"c6f0a4068cc687d84fe9603d86ae04b5\", element=\"f.35C072E19F87CE3CD18CE0054D70B5B7.d.9CC02860C3E6E58D39A6F1F6D402D14D.e.59\")>,\n",
       " <selenium.webdriver.remote.webelement.WebElement (session=\"c6f0a4068cc687d84fe9603d86ae04b5\", element=\"f.35C072E19F87CE3CD18CE0054D70B5B7.d.9CC02860C3E6E58D39A6F1F6D402D14D.e.60\")>,\n",
       " <selenium.webdriver.remote.webelement.WebElement (session=\"c6f0a4068cc687d84fe9603d86ae04b5\", element=\"f.35C072E19F87CE3CD18CE0054D70B5B7.d.9CC02860C3E6E58D39A6F1F6D402D14D.e.61\")>,\n",
       " <selenium.webdriver.remote.webelement.WebElement (session=\"c6f0a4068cc687d84fe9603d86ae04b5\", element=\"f.35C072E19F87CE3CD18CE0054D70B5B7.d.9CC02860C3E6E58D39A6F1F6D402D14D.e.62\")>,\n",
       " <selenium.webdriver.remote.webelement.WebElement (session=\"c6f0a4068cc687d84fe9603d86ae04b5\", element=\"f.35C072E19F87CE3CD18CE0054D70B5B7.d.9CC02860C3E6E58D39A6F1F6D402D14D.e.63\")>,\n",
       " <selenium.webdriver.remote.webelement.WebElement (session=\"c6f0a4068cc687d84fe9603d86ae04b5\", element=\"f.35C072E19F87CE3CD18CE0054D70B5B7.d.9CC02860C3E6E58D39A6F1F6D402D14D.e.64\")>,\n",
       " <selenium.webdriver.remote.webelement.WebElement (session=\"c6f0a4068cc687d84fe9603d86ae04b5\", element=\"f.35C072E19F87CE3CD18CE0054D70B5B7.d.9CC02860C3E6E58D39A6F1F6D402D14D.e.65\")>,\n",
       " <selenium.webdriver.remote.webelement.WebElement (session=\"c6f0a4068cc687d84fe9603d86ae04b5\", element=\"f.35C072E19F87CE3CD18CE0054D70B5B7.d.9CC02860C3E6E58D39A6F1F6D402D14D.e.66\")>,\n",
       " <selenium.webdriver.remote.webelement.WebElement (session=\"c6f0a4068cc687d84fe9603d86ae04b5\", element=\"f.35C072E19F87CE3CD18CE0054D70B5B7.d.9CC02860C3E6E58D39A6F1F6D402D14D.e.67\")>,\n",
       " <selenium.webdriver.remote.webelement.WebElement (session=\"c6f0a4068cc687d84fe9603d86ae04b5\", element=\"f.35C072E19F87CE3CD18CE0054D70B5B7.d.9CC02860C3E6E58D39A6F1F6D402D14D.e.68\")>,\n",
       " <selenium.webdriver.remote.webelement.WebElement (session=\"c6f0a4068cc687d84fe9603d86ae04b5\", element=\"f.35C072E19F87CE3CD18CE0054D70B5B7.d.9CC02860C3E6E58D39A6F1F6D402D14D.e.69\")>,\n",
       " <selenium.webdriver.remote.webelement.WebElement (session=\"c6f0a4068cc687d84fe9603d86ae04b5\", element=\"f.35C072E19F87CE3CD18CE0054D70B5B7.d.9CC02860C3E6E58D39A6F1F6D402D14D.e.70\")>,\n",
       " <selenium.webdriver.remote.webelement.WebElement (session=\"c6f0a4068cc687d84fe9603d86ae04b5\", element=\"f.35C072E19F87CE3CD18CE0054D70B5B7.d.9CC02860C3E6E58D39A6F1F6D402D14D.e.71\")>,\n",
       " <selenium.webdriver.remote.webelement.WebElement (session=\"c6f0a4068cc687d84fe9603d86ae04b5\", element=\"f.35C072E19F87CE3CD18CE0054D70B5B7.d.9CC02860C3E6E58D39A6F1F6D402D14D.e.72\")>,\n",
       " <selenium.webdriver.remote.webelement.WebElement (session=\"c6f0a4068cc687d84fe9603d86ae04b5\", element=\"f.35C072E19F87CE3CD18CE0054D70B5B7.d.9CC02860C3E6E58D39A6F1F6D402D14D.e.73\")>,\n",
       " <selenium.webdriver.remote.webelement.WebElement (session=\"c6f0a4068cc687d84fe9603d86ae04b5\", element=\"f.35C072E19F87CE3CD18CE0054D70B5B7.d.9CC02860C3E6E58D39A6F1F6D402D14D.e.74\")>,\n",
       " <selenium.webdriver.remote.webelement.WebElement (session=\"c6f0a4068cc687d84fe9603d86ae04b5\", element=\"f.35C072E19F87CE3CD18CE0054D70B5B7.d.9CC02860C3E6E58D39A6F1F6D402D14D.e.75\")>,\n",
       " <selenium.webdriver.remote.webelement.WebElement (session=\"c6f0a4068cc687d84fe9603d86ae04b5\", element=\"f.35C072E19F87CE3CD18CE0054D70B5B7.d.9CC02860C3E6E58D39A6F1F6D402D14D.e.76\")>,\n",
       " <selenium.webdriver.remote.webelement.WebElement (session=\"c6f0a4068cc687d84fe9603d86ae04b5\", element=\"f.35C072E19F87CE3CD18CE0054D70B5B7.d.9CC02860C3E6E58D39A6F1F6D402D14D.e.77\")>,\n",
       " <selenium.webdriver.remote.webelement.WebElement (session=\"c6f0a4068cc687d84fe9603d86ae04b5\", element=\"f.35C072E19F87CE3CD18CE0054D70B5B7.d.9CC02860C3E6E58D39A6F1F6D402D14D.e.78\")>,\n",
       " <selenium.webdriver.remote.webelement.WebElement (session=\"c6f0a4068cc687d84fe9603d86ae04b5\", element=\"f.35C072E19F87CE3CD18CE0054D70B5B7.d.9CC02860C3E6E58D39A6F1F6D402D14D.e.79\")>,\n",
       " <selenium.webdriver.remote.webelement.WebElement (session=\"c6f0a4068cc687d84fe9603d86ae04b5\", element=\"f.35C072E19F87CE3CD18CE0054D70B5B7.d.9CC02860C3E6E58D39A6F1F6D402D14D.e.80\")>,\n",
       " <selenium.webdriver.remote.webelement.WebElement (session=\"c6f0a4068cc687d84fe9603d86ae04b5\", element=\"f.35C072E19F87CE3CD18CE0054D70B5B7.d.9CC02860C3E6E58D39A6F1F6D402D14D.e.81\")>,\n",
       " <selenium.webdriver.remote.webelement.WebElement (session=\"c6f0a4068cc687d84fe9603d86ae04b5\", element=\"f.35C072E19F87CE3CD18CE0054D70B5B7.d.9CC02860C3E6E58D39A6F1F6D402D14D.e.82\")>,\n",
       " <selenium.webdriver.remote.webelement.WebElement (session=\"c6f0a4068cc687d84fe9603d86ae04b5\", element=\"f.35C072E19F87CE3CD18CE0054D70B5B7.d.9CC02860C3E6E58D39A6F1F6D402D14D.e.83\")>,\n",
       " <selenium.webdriver.remote.webelement.WebElement (session=\"c6f0a4068cc687d84fe9603d86ae04b5\", element=\"f.35C072E19F87CE3CD18CE0054D70B5B7.d.9CC02860C3E6E58D39A6F1F6D402D14D.e.84\")>,\n",
       " <selenium.webdriver.remote.webelement.WebElement (session=\"c6f0a4068cc687d84fe9603d86ae04b5\", element=\"f.35C072E19F87CE3CD18CE0054D70B5B7.d.9CC02860C3E6E58D39A6F1F6D402D14D.e.85\")>,\n",
       " <selenium.webdriver.remote.webelement.WebElement (session=\"c6f0a4068cc687d84fe9603d86ae04b5\", element=\"f.35C072E19F87CE3CD18CE0054D70B5B7.d.9CC02860C3E6E58D39A6F1F6D402D14D.e.86\")>,\n",
       " <selenium.webdriver.remote.webelement.WebElement (session=\"c6f0a4068cc687d84fe9603d86ae04b5\", element=\"f.35C072E19F87CE3CD18CE0054D70B5B7.d.9CC02860C3E6E58D39A6F1F6D402D14D.e.87\")>,\n",
       " <selenium.webdriver.remote.webelement.WebElement (session=\"c6f0a4068cc687d84fe9603d86ae04b5\", element=\"f.35C072E19F87CE3CD18CE0054D70B5B7.d.9CC02860C3E6E58D39A6F1F6D402D14D.e.88\")>,\n",
       " <selenium.webdriver.remote.webelement.WebElement (session=\"c6f0a4068cc687d84fe9603d86ae04b5\", element=\"f.35C072E19F87CE3CD18CE0054D70B5B7.d.9CC02860C3E6E58D39A6F1F6D402D14D.e.89\")>,\n",
       " <selenium.webdriver.remote.webelement.WebElement (session=\"c6f0a4068cc687d84fe9603d86ae04b5\", element=\"f.35C072E19F87CE3CD18CE0054D70B5B7.d.9CC02860C3E6E58D39A6F1F6D402D14D.e.90\")>,\n",
       " <selenium.webdriver.remote.webelement.WebElement (session=\"c6f0a4068cc687d84fe9603d86ae04b5\", element=\"f.35C072E19F87CE3CD18CE0054D70B5B7.d.9CC02860C3E6E58D39A6F1F6D402D14D.e.91\")>,\n",
       " <selenium.webdriver.remote.webelement.WebElement (session=\"c6f0a4068cc687d84fe9603d86ae04b5\", element=\"f.35C072E19F87CE3CD18CE0054D70B5B7.d.9CC02860C3E6E58D39A6F1F6D402D14D.e.92\")>]"
      ]
     },
     "execution_count": 11,
     "metadata": {},
     "output_type": "execute_result"
    }
   ],
   "source": [
    "mis_secciones"
   ]
  },
  {
   "cell_type": "code",
   "execution_count": 12,
   "metadata": {
    "ExecuteTime": {
     "end_time": "2021-02-25T10:40:55.130681Z",
     "start_time": "2021-02-25T10:40:54.930234Z"
    }
   },
   "outputs": [],
   "source": [
    "for a in mis_secciones[:5]:\n",
    "    # print(a)\n",
    "    a.click()\n",
    "    time.sleep(3)\n",
    "    driver.back()"
   ]
  },
  {
   "cell_type": "markdown",
   "metadata": {},
   "source": [
    "Accedemos al container central, en el que aparecen los estrenos por semana que queremos ver, exactamente igual que hemos hecho antes"
   ]
  },
  {
   "cell_type": "code",
   "execution_count": 13,
   "metadata": {
    "ExecuteTime": {
     "end_time": "2021-02-25T10:43:53.772471Z",
     "start_time": "2021-02-25T10:43:53.757510Z"
    }
   },
   "outputs": [],
   "source": [
    "cajon_central = driver.find_elements(By.CLASS_NAME, 'padding-movie-catrd')"
   ]
  },
  {
   "cell_type": "code",
   "execution_count": 14,
   "metadata": {
    "ExecuteTime": {
     "end_time": "2021-02-25T11:04:59.734561Z",
     "start_time": "2021-02-25T11:04:59.617626Z"
    }
   },
   "outputs": [
    {
     "name": "stdout",
     "output_type": "stream",
     "text": [
      "Dune: Parte Dos\n",
      "(1 de marzo)\n",
      "https://www.filmaffinity.com/es/film180929.html\n",
      "Dream Scenario\n",
      "(1 de marzo)\n",
      "https://www.filmaffinity.com/es/film451266.html\n",
      "Dos chicas a la fuga\n",
      "(1 de marzo)\n",
      "https://www.filmaffinity.com/es/film491506.html\n",
      "Tótem\n",
      "(1 de marzo)\n",
      "https://www.filmaffinity.com/es/film168806.html\n",
      "La aventura infinita\n",
      "(1 de marzo)\n",
      "https://www.filmaffinity.com/es/film907069.html\n",
      "Guadalupe: Madre de la Humanidad\n",
      "(1 de marzo)\n",
      "https://www.filmaffinity.com/es/film897963.html\n",
      "Not a Pretty Picture\n",
      "(1 de marzo)\n",
      "https://www.filmaffinity.com/es/film315330.html\n",
      "Abo Nasab\n",
      "(1 de marzo)\n",
      "https://www.filmaffinity.com/es/film416078.html\n",
      "Políticamente incorrectos\n",
      "(23 de febrero)\n",
      "https://www.filmaffinity.com/es/film414800.html\n",
      "Kung Fu Panda 4\n",
      "(8 de marzo)\n",
      "https://www.filmaffinity.com/es/film187608.html\n",
      "Por tus muertos\n",
      "(8 de marzo)\n",
      "https://www.filmaffinity.com/es/film658508.html\n",
      "Los pequeños amores\n",
      "(8 de marzo)\n",
      "https://www.filmaffinity.com/es/film417528.html\n",
      "Blue Giant\n",
      "(8 de marzo)\n",
      "https://www.filmaffinity.com/es/film601460.html\n",
      "La extorsión\n",
      "(8 de marzo)\n",
      "https://www.filmaffinity.com/es/film638626.html\n",
      "La bestia en la jungla\n",
      "(8 de marzo)\n",
      "https://www.filmaffinity.com/es/film932361.html\n",
      "Vincent debe morir\n",
      "(8 de marzo)\n",
      "https://www.filmaffinity.com/es/film655254.html\n",
      "Stop Making Sense\n",
      "(8 de marzo)\n",
      "https://www.filmaffinity.com/es/film739610.html\n",
      "UnCancelled\n",
      "(8 de marzo)\n",
      "https://www.filmaffinity.com/es/film729859.html\n",
      "Hot Wheels, ¡a correr! (Serie de TV)\n",
      "(4 de marzo)\n",
      "https://www.filmaffinity.com/es/film661930.html\n",
      "El astronauta\n",
      "(1 de marzo)\n",
      "https://www.filmaffinity.com/es/film859158.html\n",
      "No estás sola: La lucha contra La Manada\n",
      "(1 de marzo)\n",
      "https://www.filmaffinity.com/es/film677526.html\n",
      "Furias (Serie de TV)\n",
      "(1 de marzo)\n",
      "https://www.filmaffinity.com/es/film812630.html\n",
      "Aníkúlápó: El ascenso del espectro (Serie de TV)\n",
      "(1 de marzo)\n",
      "https://www.filmaffinity.com/es/film775637.html\n",
      "Me llamo Loh Kiwan\n",
      "(1 de marzo)\n",
      "https://www.filmaffinity.com/es/film996018.html\n",
      "Los pasillos del juzgado (Serie de TV)\n",
      "(1 de marzo)\n",
      "https://www.filmaffinity.com/es/film577968.html\n",
      "Comida para Phil (Serie de TV)\n",
      "(1 de marzo)\n",
      "https://www.filmaffinity.com/es/film528696.html\n",
      "Blood & Water (Serie de TV)\n",
      "(1 de marzo)\n",
      "https://www.filmaffinity.com/es/film494373.html\n",
      "Oppenheimer\n",
      "(21 de marzo)\n",
      "https://www.filmaffinity.com/es/film294474.html\n",
      "Mary & George (Miniserie de TV)\n",
      "(8 de marzo)\n",
      "https://www.filmaffinity.com/es/film220645.html\n",
      "Sexy Beast (Serie de TV)\n",
      "(7 de marzo)\n",
      "https://www.filmaffinity.com/es/film216423.html\n",
      "Ted (Serie de TV)\n",
      "(22 de febrero)\n",
      "https://www.filmaffinity.com/es/film867445.html\n",
      "Atraco 88\n",
      "(22 de febrero)\n",
      "https://www.filmaffinity.com/es/film591249.html\n",
      "La mujer en la pared (Miniserie de TV)\n",
      "(19 de febrero)\n",
      "https://www.filmaffinity.com/es/film832133.html\n",
      "Ninja Turtles: Caos mutante\n",
      "(16 de febrero)\n",
      "https://www.filmaffinity.com/es/film903246.html\n",
      "Halo: La serie (Serie de TV)\n",
      "(9 de febrero)\n",
      "https://www.filmaffinity.com/es/film917147.html\n",
      "Misión imposible: Sentencia mortal - Parte 1\n",
      "(9 de febrero)\n",
      "https://www.filmaffinity.com/es/film945258.html\n",
      "El heredero ilegítimo (Serie de TV)\n",
      "(28 de febrero)\n",
      "https://www.filmaffinity.com/es/film419411.html\n",
      "Todo va bien (Serie de TV)\n",
      "(28 de febrero)\n",
      "https://www.filmaffinity.com/es/film461396.html\n",
      "Shôgun (Miniserie de TV)\n",
      "(27 de febrero)\n",
      "https://www.filmaffinity.com/es/film958797.html\n",
      "Star Wars: La remesa mala (Serie de TV)\n",
      "(21 de febrero)\n",
      "https://www.filmaffinity.com/es/film188332.html\n",
      "El último taller de instrumentos\n",
      "(16 de febrero)\n",
      "https://www.filmaffinity.com/es/film754939.html\n",
      "El peor equipo del mundo (Next Goal Wins)\n",
      "(14 de febrero)\n",
      "https://www.filmaffinity.com/es/film484448.html\n",
      "Suncoast\n",
      "(9 de febrero)\n",
      "https://www.filmaffinity.com/es/film281731.html\n",
      "The Marvels\n",
      "(7 de febrero)\n",
      "https://www.filmaffinity.com/es/film685807.html\n",
      "Uno mismo (C)\n",
      "(2 de febrero)\n",
      "https://www.filmaffinity.com/es/film860792.html\n",
      "Un hombre de razón\n",
      "(4 de marzo)\n",
      "https://www.filmaffinity.com/es/film182590.html\n",
      "Las cuatro almas de Coyote\n",
      "(4 de marzo)\n",
      "https://www.filmaffinity.com/es/film870073.html\n",
      "Passages\n",
      "(3 de marzo)\n",
      "https://www.filmaffinity.com/es/film265989.html\n",
      "Carlos: La historia de Santana\n",
      "(2 de marzo)\n",
      "https://www.filmaffinity.com/es/film472263.html\n",
      "The Baker\n",
      "(28 de febrero)\n",
      "https://www.filmaffinity.com/es/film732388.html\n",
      "Lagerfeld: inspiración y ambición (Serie de TV)\n",
      "(28 de febrero)\n",
      "https://www.filmaffinity.com/es/film544832.html\n",
      "Aquaman y el reino perdido\n",
      "(27 de febrero)\n",
      "https://www.filmaffinity.com/es/film415770.html\n",
      "Teresa\n",
      "(27 de febrero)\n",
      "https://www.filmaffinity.com/es/film193578.html\n",
      "Repostero y chef\n",
      "(26 de febrero)\n",
      "https://www.filmaffinity.com/es/film901071.html\n",
      "El régimen (Miniserie de TV)\n",
      "(4 de marzo)\n",
      "https://www.filmaffinity.com/es/film761081.html\n",
      "Dios salve a Texas (Miniserie de TV)\n",
      "(28 de febrero)\n",
      "https://www.filmaffinity.com/es/film281752.html\n",
      "Aquaman y el reino perdido\n",
      "(27 de febrero)\n",
      "https://www.filmaffinity.com/es/film415770.html\n",
      "La contadora de películas\n",
      "(16 de febrero)\n",
      "https://www.filmaffinity.com/es/film390037.html\n",
      "La verdad sobre Jim (Serie de TV)\n",
      "(15 de febrero)\n",
      "https://www.filmaffinity.com/es/film893556.html\n",
      "Ninja Kamui (Serie de TV)\n",
      "(15 de febrero)\n",
      "https://www.filmaffinity.com/es/film839979.html\n",
      "Tokyo Vice (Serie de TV)\n",
      "(8 de febrero)\n",
      "https://www.filmaffinity.com/es/film812588.html\n",
      "El arte de la revolución\n",
      "(8 de febrero)\n",
      "https://www.filmaffinity.com/es/film947544.html\n",
      "Casi inofensivo\n",
      "(8 de febrero)\n",
      "https://www.filmaffinity.com/es/film296301.html\n",
      "Antonia (Serie de TV)\n",
      "(4 de marzo)\n",
      "https://www.filmaffinity.com/es/film755291.html\n",
      "Reina Roja (Serie de TV)\n",
      "(29 de febrero)\n",
      "https://www.filmaffinity.com/es/film568341.html\n",
      "American Fiction\n",
      "(27 de febrero)\n",
      "https://www.filmaffinity.com/es/film779260.html\n",
      "La mayor historia de amor jamás contada\n",
      "(27 de febrero)\n",
      "https://www.filmaffinity.com/es/film745860.html\n",
      "Pombo (Serie de TV)\n",
      "(23 de febrero)\n",
      "https://www.filmaffinity.com/es/film233554.html\n",
      "El segundo mejor hospital de la galaxia (Serie de TV)\n",
      "(23 de febrero)\n",
      "https://www.filmaffinity.com/es/film532172.html\n",
      "Giannis: Camino a la grandeza (Serie de TV)\n",
      "(19 de febrero)\n",
      "https://www.filmaffinity.com/es/film361232.html\n",
      "This Is Me…Now: Una historia de amor\n",
      "(16 de febrero)\n",
      "https://www.filmaffinity.com/es/film821162.html\n",
      "Los juegos del hambre: Balada de pájaros cantores y serpientes\n",
      "(16 de febrero)\n",
      "https://www.filmaffinity.com/es/film290132.html\n",
      "Mamacruz\n",
      "(1 de marzo)\n",
      "https://www.filmaffinity.com/es/film445839.html\n",
      "La fractura\n",
      "(1 de marzo)\n",
      "https://www.filmaffinity.com/es/film311386.html\n",
      "Knit's Island\n",
      "(1 de marzo)\n",
      "https://www.filmaffinity.com/es/film269894.html\n",
      "Sinfonía de un hombre común\n",
      "(1 de marzo)\n",
      "https://www.filmaffinity.com/es/film752383.html\n",
      "La historia del cine: nueva generación\n",
      "(1 de marzo)\n",
      "https://www.filmaffinity.com/es/film987745.html\n",
      "Manipulación: Sexo, cámara, poder\n",
      "(1 de marzo)\n",
      "https://www.filmaffinity.com/es/film479106.html\n",
      "No tendréis mi odio\n",
      "(1 de marzo)\n",
      "https://www.filmaffinity.com/es/film954255.html\n",
      "Quan no acaba la nit (Cuando la noche no termina)\n",
      "(1 de marzo)\n",
      "https://www.filmaffinity.com/es/film269123.html\n",
      "Julia\n",
      "(1 de marzo)\n",
      "https://www.filmaffinity.com/es/film669205.html\n",
      "Las aventuras (completamente inventadas) de Dick Turpin (Serie de TV)\n",
      "(1 de marzo)\n",
      "https://www.filmaffinity.com/es/film423952.html\n",
      "Napoleón\n",
      "(1 de marzo)\n",
      "https://www.filmaffinity.com/es/film188322.html\n",
      "Sonidos terrestres (Serie de TV)\n",
      "(23 de febrero)\n",
      "https://www.filmaffinity.com/es/film949138.html\n",
      "Apple Music Live: Jennifer Lopez\n",
      "(22 de febrero)\n",
      "https://www.filmaffinity.com/es/film296567.html\n",
      "Constelación (Serie de TV)\n",
      "(21 de febrero)\n",
      "https://www.filmaffinity.com/es/film891749.html\n",
      "El Mundial de Messi: El ascenso de la leyenda (Miniserie de TV)\n",
      "(21 de febrero)\n",
      "https://www.filmaffinity.com/es/film634391.html\n",
      "Snoopy presenta: Bienvenido a la pandilla, Franklin\n",
      "(16 de febrero)\n",
      "https://www.filmaffinity.com/es/film987869.html\n",
      "New England Patriots: la dinastía (Miniserie de TV)\n",
      "(16 de febrero)\n",
      "https://www.filmaffinity.com/es/film687256.html\n",
      "New Look (Serie de TV)\n",
      "(14 de febrero)\n",
      "https://www.filmaffinity.com/es/film752773.html\n",
      "The Marvels\n",
      "(26 de febrero)\n",
      "https://www.filmaffinity.com/es/film685807.html\n",
      "Vida perra\n",
      "(21 de febrero)\n",
      "https://www.filmaffinity.com/es/film230381.html\n",
      "Alimañas\n",
      "(21 de febrero)\n",
      "https://www.filmaffinity.com/es/film343722.html\n",
      "Noche de paz\n",
      "(21 de febrero)\n",
      "https://www.filmaffinity.com/es/film913578.html\n",
      "Monstruo\n",
      "(21 de febrero)\n",
      "https://www.filmaffinity.com/es/film700716.html\n",
      "El exorcista: Creyente\n",
      "(21 de febrero)\n",
      "https://www.filmaffinity.com/es/film779230.html\n",
      "Black Friday\n",
      "(21 de febrero)\n",
      "https://www.filmaffinity.com/es/film507632.html\n",
      "Golpe de suerte\n",
      "(20 de febrero)\n",
      "https://www.filmaffinity.com/es/film475620.html\n",
      "Chinas\n",
      "(20 de febrero)\n",
      "https://www.filmaffinity.com/es/film339660.html\n",
      "Wonka\n",
      "(2 de marzo)\n",
      "https://www.filmaffinity.com/es/film430111.html\n",
      "Trolls 3: Todos juntos\n",
      "(1 de marzo)\n",
      "https://www.filmaffinity.com/es/film639352.html\n",
      "La bala de Dios\n",
      "(1 de marzo)\n",
      "https://www.filmaffinity.com/es/film382476.html\n",
      "Compasión por el diablo\n",
      "(1 de marzo)\n",
      "https://www.filmaffinity.com/es/film619059.html\n",
      "Juniper\n",
      "(1 de marzo)\n",
      "https://www.filmaffinity.com/es/film517286.html\n",
      "Creatura\n",
      "(1 de marzo)\n",
      "https://www.filmaffinity.com/es/film548527.html\n",
      "Mamacruz\n",
      "(1 de marzo)\n",
      "https://www.filmaffinity.com/es/film445839.html\n",
      "Fuerza bruta: Sin salida\n",
      "(1 de marzo)\n",
      "https://www.filmaffinity.com/es/film774536.html\n",
      "Mirando al cielo\n",
      "(1 de marzo)\n",
      "https://www.filmaffinity.com/es/film423082.html\n",
      "Hannah Gadsby's Gender Agenda (TV)\n",
      "(5 de marzo)\n",
      "https://www.filmaffinity.com/es/film926868.html\n",
      "El programa: Sumisión, sectas y secuestros (Miniserie de TV)\n",
      "(5 de marzo)\n",
      "https://www.filmaffinity.com/es/film338238.html\n",
      "Supersex (Serie de TV)\n",
      "(6 de marzo)\n",
      "https://www.filmaffinity.com/es/film298869.html\n",
      "Full Swing (Serie de TV)\n",
      "(6 de marzo)\n",
      "https://www.filmaffinity.com/es/film201978.html\n",
      "The Gentlemen: La serie (Serie de TV)\n",
      "(7 de marzo)\n",
      "https://www.filmaffinity.com/es/film629037.html\n",
      "La señal (Miniserie de TV)\n",
      "(7 de marzo)\n",
      "https://www.filmaffinity.com/es/film786822.html\n",
      "ARA San Juan: El submarino que desapareció (Serie de TV)\n",
      "(7 de marzo)\n",
      "https://www.filmaffinity.com/es/film582533.html\n",
      "Damsel\n",
      "(8 de marzo)\n",
      "https://www.filmaffinity.com/es/film839487.html\n",
      "Jóvenes altezas (Serie de TV)\n",
      "(11 de marzo)\n",
      "https://www.filmaffinity.com/es/film478925.html\n"
     ]
    }
   ],
   "source": [
    "for peli in cajon_central:\n",
    "    print(peli.find_element(By.TAG_NAME, 'div').text)\n",
    "    print(peli.find_element(By.TAG_NAME, 'a').get_attribute('href'))"
   ]
  },
  {
   "cell_type": "markdown",
   "metadata": {},
   "source": [
    "Vamos a ver cómo nos podemos mover entre ventanas del navegador\n",
    "\n",
    "Abrir nueva ventana:"
   ]
  },
  {
   "cell_type": "code",
   "execution_count": 15,
   "metadata": {},
   "outputs": [],
   "source": [
    "driver.execute_script('window.open(\"\");')"
   ]
  },
  {
   "cell_type": "markdown",
   "metadata": {},
   "source": [
    "Movernos a otra ventana"
   ]
  },
  {
   "cell_type": "code",
   "execution_count": 17,
   "metadata": {},
   "outputs": [],
   "source": [
    "driver.switch_to.window(driver.window_handles[1])"
   ]
  },
  {
   "cell_type": "markdown",
   "metadata": {},
   "source": [
    "Cerrar ventana"
   ]
  },
  {
   "cell_type": "code",
   "execution_count": 18,
   "metadata": {},
   "outputs": [],
   "source": [
    "driver.close()"
   ]
  },
  {
   "cell_type": "markdown",
   "metadata": {},
   "source": [
    "Una vez cerramos la ventana tenemos que indicarle a qué ventana tiene que ir"
   ]
  },
  {
   "cell_type": "code",
   "execution_count": 22,
   "metadata": {
    "ExecuteTime": {
     "end_time": "2021-02-25T12:05:01.711952Z",
     "start_time": "2021-02-25T12:05:01.583709Z"
    }
   },
   "outputs": [],
   "source": [
    "driver.switch_to.window(driver.window_handles[-1])"
   ]
  },
  {
   "cell_type": "code",
   "execution_count": 23,
   "metadata": {},
   "outputs": [],
   "source": [
    "driver.close()"
   ]
  },
  {
   "cell_type": "code",
   "execution_count": 42,
   "metadata": {},
   "outputs": [
    {
     "name": "stdout",
     "output_type": "stream",
     "text": [
      "['Saltar al contenido principal', 'Saltar al contenido principal', 'Saltar al contenido principal', 'Saltar al contenido principal']\n"
     ]
    }
   ],
   "source": [
    "service = Service(executable_path='./chromedriver.exe')\n",
    "options = webdriver.ChromeOptions()\n",
    "driver = webdriver.Chrome(service=service, options=options)\n",
    "time.sleep(3)\n",
    "\n",
    "driver.get(\"http://www.google.es\")\n",
    "loadMore = driver.find_element(By.XPATH, '/html/body/div[2]/div[3]/div[3]/span/div/div/div/div[3]/div[1]/button[1]')\n",
    "loadMore.click()\n",
    "\n",
    "lista_conceptos = [\"precio bitcoin\", \"precio ethereum\", \"precio sp500\", \"precio oro\"]\n",
    "search_box = driver.find_element(By.XPATH, \"/html/body/div[1]/div[3]/form/div[1]/div[1]/div[1]/div/div[2]/textarea\")\n",
    "lista_titulos = []\n",
    "\n",
    "for concepto in lista_conceptos:\n",
    "    search_box.send_keys(concepto)\n",
    "    search_box.submit()\n",
    "    link = driver.find_element(By.TAG_NAME, \"a\")\n",
    "    lista_titulos.append(link.text)\n",
    "    time.sleep(5)\n",
    "    driver.back()\n",
    "print(lista_titulos)"
   ]
  },
  {
   "cell_type": "code",
   "execution_count": 43,
   "metadata": {},
   "outputs": [],
   "source": [
    "driver.quit()"
   ]
  }
 ],
 "metadata": {
  "hide_input": false,
  "kernelspec": {
   "display_name": "Python 3.7.4 64-bit",
   "language": "python",
   "name": "python3"
  },
  "language_info": {
   "codemirror_mode": {
    "name": "ipython",
    "version": 3
   },
   "file_extension": ".py",
   "mimetype": "text/x-python",
   "name": "python",
   "nbconvert_exporter": "python",
   "pygments_lexer": "ipython3",
   "version": "3.12.3"
  },
  "nbTranslate": {
   "displayLangs": [
    "*"
   ],
   "hotkey": "alt-t",
   "langInMainMenu": true,
   "sourceLang": "en",
   "targetLang": "fr",
   "useGoogleTranslate": true
  },
  "varInspector": {
   "cols": {
    "lenName": 16,
    "lenType": 16,
    "lenVar": 40
   },
   "kernels_config": {
    "python": {
     "delete_cmd_postfix": "",
     "delete_cmd_prefix": "del ",
     "library": "var_list.py",
     "varRefreshCmd": "print(var_dic_list())"
    },
    "r": {
     "delete_cmd_postfix": ") ",
     "delete_cmd_prefix": "rm(",
     "library": "var_list.r",
     "varRefreshCmd": "cat(var_dic_list()) "
    }
   },
   "types_to_exclude": [
    "module",
    "function",
    "builtin_function_or_method",
    "instance",
    "_Feature"
   ],
   "window_display": false
  },
  "vscode": {
   "interpreter": {
    "hash": "90139cb9a825bf3d63f6f6704e828dbd1ff7edbd4d0c6e906a71235d6efc74af"
   }
  }
 },
 "nbformat": 4,
 "nbformat_minor": 2
}
